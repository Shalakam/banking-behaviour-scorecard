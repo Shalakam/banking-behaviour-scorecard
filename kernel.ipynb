{
  "nbformat": 4,
  "nbformat_minor": 0,
  "metadata": {
    "kernelspec": {
      "name": "python3",
      "display_name": "Python 3"
    },
    "language_info": {
      "codemirror_mode": {
        "name": "ipython",
        "version": 3
      },
      "file_extension": ".py",
      "mimetype": "text/x-python",
      "name": "python",
      "nbconvert_exporter": "python",
      "pygments_lexer": "ipython3",
      "version": "3.7.0"
    },
    "colab": {
      "name": "kernel.ipynb",
      "provenance": []
    },
    "accelerator": "GPU"
  },
  "cells": [
    {
      "cell_type": "markdown",
      "metadata": {
        "id": "zk_5NTTwqnof",
        "colab_type": "text"
      },
      "source": [
        "## Importing Libraries"
      ]
    },
    {
      "cell_type": "code",
      "metadata": {
        "id": "QzSOF98p8739",
        "colab_type": "code",
        "colab": {}
      },
      "source": [
        "import pandas as pd\n",
        "import numpy as np\n",
        "import matplotlib.pyplot as plt\n",
        "import seaborn as sns\n",
        "from sklearn.manifold import TSNE"
      ],
      "execution_count": 0,
      "outputs": []
    },
    {
      "cell_type": "code",
      "metadata": {
        "id": "g1_sgPng8sYD",
        "colab_type": "code",
        "colab": {
          "base_uri": "https://localhost:8080/",
          "height": 35
        },
        "outputId": "0ea425c4-e382-4f30-84b1-46f0ea4e772e"
      },
      "source": [
        "from google.colab import drive\n",
        "drive.mount('/content/drive')"
      ],
      "execution_count": 69,
      "outputs": [
        {
          "output_type": "stream",
          "text": [
            "Drive already mounted at /content/drive; to attempt to forcibly remount, call drive.mount(\"/content/drive\", force_remount=True).\n"
          ],
          "name": "stdout"
        }
      ]
    },
    {
      "cell_type": "markdown",
      "metadata": {
        "id": "tWkuX82W9BR7",
        "colab_type": "text"
      },
      "source": [
        "## Preprocessing"
      ]
    },
    {
      "cell_type": "code",
      "metadata": {
        "id": "8XsOH6BMQ9bN",
        "colab_type": "code",
        "colab": {
          "base_uri": "https://localhost:8080/",
          "height": 321
        },
        "outputId": "6d3d31b4-ae8f-48c5-8216-919c0edb8e92"
      },
      "source": [
        "train_path = \"./drive/My Drive/data/Train.csv\"\n",
        "test_path = \"./drive/My Drive/data/Test.csv\"\n",
        "\n",
        "train_df = pd.read_csv(train_path)\n",
        "test_df = pd.read_csv(test_path)\n",
        "train_df.head()"
      ],
      "execution_count": 106,
      "outputs": [
        {
          "output_type": "stream",
          "text": [
            "/usr/local/lib/python3.6/dist-packages/IPython/core/interactiveshell.py:2718: DtypeWarning: Columns (746,835) have mixed types. Specify dtype option on import or set low_memory=False.\n",
            "  interactivity=interactivity, compiler=compiler, result=result)\n",
            "/usr/local/lib/python3.6/dist-packages/IPython/core/interactiveshell.py:2718: DtypeWarning: Columns (700,731,740,752,761,789,811,820,829,841,850) have mixed types. Specify dtype option on import or set low_memory=False.\n",
            "  interactivity=interactivity, compiler=compiler, result=result)\n"
          ],
          "name": "stderr"
        },
        {
          "output_type": "execute_result",
          "data": {
            "text/html": [
              "<div>\n",
              "<style scoped>\n",
              "    .dataframe tbody tr th:only-of-type {\n",
              "        vertical-align: middle;\n",
              "    }\n",
              "\n",
              "    .dataframe tbody tr th {\n",
              "        vertical-align: top;\n",
              "    }\n",
              "\n",
              "    .dataframe thead th {\n",
              "        text-align: right;\n",
              "    }\n",
              "</style>\n",
              "<table border=\"1\" class=\"dataframe\">\n",
              "  <thead>\n",
              "    <tr style=\"text-align: right;\">\n",
              "      <th></th>\n",
              "      <th>Col1</th>\n",
              "      <th>Col2</th>\n",
              "      <th>Col3</th>\n",
              "      <th>Col4</th>\n",
              "      <th>Col5</th>\n",
              "      <th>Col6</th>\n",
              "      <th>Col7</th>\n",
              "      <th>Col8</th>\n",
              "      <th>Col9</th>\n",
              "      <th>Col10</th>\n",
              "      <th>Col11</th>\n",
              "      <th>Col12</th>\n",
              "      <th>Col13</th>\n",
              "      <th>Col14</th>\n",
              "      <th>Col15</th>\n",
              "      <th>Col16</th>\n",
              "      <th>Col17</th>\n",
              "      <th>Col18</th>\n",
              "      <th>Col19</th>\n",
              "      <th>Col20</th>\n",
              "      <th>Col21</th>\n",
              "      <th>Col22</th>\n",
              "      <th>Col23</th>\n",
              "      <th>Col24</th>\n",
              "      <th>Col25</th>\n",
              "      <th>Col26</th>\n",
              "      <th>Col27</th>\n",
              "      <th>Col28</th>\n",
              "      <th>Col29</th>\n",
              "      <th>Col30</th>\n",
              "      <th>Col31</th>\n",
              "      <th>Col32</th>\n",
              "      <th>Col33</th>\n",
              "      <th>Col34</th>\n",
              "      <th>Col35</th>\n",
              "      <th>Col36</th>\n",
              "      <th>Col37</th>\n",
              "      <th>Col38</th>\n",
              "      <th>Col39</th>\n",
              "      <th>Col40</th>\n",
              "      <th>...</th>\n",
              "      <th>Col2358</th>\n",
              "      <th>Col2359</th>\n",
              "      <th>Col2360</th>\n",
              "      <th>Col2361</th>\n",
              "      <th>Col2362</th>\n",
              "      <th>Col2363</th>\n",
              "      <th>Col2364</th>\n",
              "      <th>Col2365</th>\n",
              "      <th>Col2366</th>\n",
              "      <th>Col2367</th>\n",
              "      <th>Col2368</th>\n",
              "      <th>Col2369</th>\n",
              "      <th>Col2370</th>\n",
              "      <th>Col2371</th>\n",
              "      <th>Col2372</th>\n",
              "      <th>Col2373</th>\n",
              "      <th>Col2374</th>\n",
              "      <th>Col2375</th>\n",
              "      <th>Col2376</th>\n",
              "      <th>Col2377</th>\n",
              "      <th>Col2378</th>\n",
              "      <th>Col2379</th>\n",
              "      <th>Col2380</th>\n",
              "      <th>Col2381</th>\n",
              "      <th>Col2382</th>\n",
              "      <th>Col2383</th>\n",
              "      <th>Col2384</th>\n",
              "      <th>Col2385</th>\n",
              "      <th>Col2386</th>\n",
              "      <th>Col2387</th>\n",
              "      <th>Col2388</th>\n",
              "      <th>Col2389</th>\n",
              "      <th>Col2390</th>\n",
              "      <th>Col2391</th>\n",
              "      <th>Col2392</th>\n",
              "      <th>Col2393</th>\n",
              "      <th>Col2394</th>\n",
              "      <th>Col2395</th>\n",
              "      <th>Col2396</th>\n",
              "      <th>Col2397</th>\n",
              "    </tr>\n",
              "  </thead>\n",
              "  <tbody>\n",
              "    <tr>\n",
              "      <th>0</th>\n",
              "      <td>RIGHGSN</td>\n",
              "      <td>1</td>\n",
              "      <td>1.086711e+04</td>\n",
              "      <td>8.648345e+03</td>\n",
              "      <td>1.576618e+04</td>\n",
              "      <td>2.890466e+04</td>\n",
              "      <td>5.273655e+03</td>\n",
              "      <td>2.346153e+04</td>\n",
              "      <td>1.285597e+04</td>\n",
              "      <td>2.871509e+04</td>\n",
              "      <td>9.114586e+03</td>\n",
              "      <td>3.043078e+04</td>\n",
              "      <td>9.293496</td>\n",
              "      <td>8.570479</td>\n",
              "      <td>10.063117</td>\n",
              "      <td>10.271758</td>\n",
              "      <td>0.548538</td>\n",
              "      <td>0.403366</td>\n",
              "      <td>NaN</td>\n",
              "      <td>NaN</td>\n",
              "      <td>1.486524</td>\n",
              "      <td>1.728324</td>\n",
              "      <td>0.993441</td>\n",
              "      <td>1.297050</td>\n",
              "      <td>0.137398</td>\n",
              "      <td>0.115987</td>\n",
              "      <td>0.260428</td>\n",
              "      <td>1.414214</td>\n",
              "      <td>1</td>\n",
              "      <td>1</td>\n",
              "      <td>1</td>\n",
              "      <td>1</td>\n",
              "      <td>1</td>\n",
              "      <td>1</td>\n",
              "      <td>0</td>\n",
              "      <td>6</td>\n",
              "      <td>NaN</td>\n",
              "      <td>NaN</td>\n",
              "      <td>NaN</td>\n",
              "      <td>NaN</td>\n",
              "      <td>...</td>\n",
              "      <td>0</td>\n",
              "      <td>0</td>\n",
              "      <td>0</td>\n",
              "      <td>0</td>\n",
              "      <td>0</td>\n",
              "      <td>0</td>\n",
              "      <td>0</td>\n",
              "      <td>0</td>\n",
              "      <td>0</td>\n",
              "      <td>0</td>\n",
              "      <td>0</td>\n",
              "      <td>0</td>\n",
              "      <td>0</td>\n",
              "      <td>0</td>\n",
              "      <td>0</td>\n",
              "      <td>0</td>\n",
              "      <td>0</td>\n",
              "      <td>0</td>\n",
              "      <td>0</td>\n",
              "      <td>0</td>\n",
              "      <td>0</td>\n",
              "      <td>0</td>\n",
              "      <td>0</td>\n",
              "      <td>0</td>\n",
              "      <td>0</td>\n",
              "      <td>0</td>\n",
              "      <td>0</td>\n",
              "      <td>0</td>\n",
              "      <td>0</td>\n",
              "      <td>0</td>\n",
              "      <td>0</td>\n",
              "      <td>1</td>\n",
              "      <td>0</td>\n",
              "      <td>1</td>\n",
              "      <td>214.0</td>\n",
              "      <td>214.0</td>\n",
              "      <td>68.0</td>\n",
              "      <td>22.0</td>\n",
              "      <td>22.0</td>\n",
              "      <td>7.0</td>\n",
              "    </tr>\n",
              "    <tr>\n",
              "      <th>1</th>\n",
              "      <td>RIMHI5ZGP</td>\n",
              "      <td>0</td>\n",
              "      <td>2.584312e+05</td>\n",
              "      <td>2.179633e+05</td>\n",
              "      <td>1.866287e+05</td>\n",
              "      <td>1.866287e+05</td>\n",
              "      <td>2.154519e+05</td>\n",
              "      <td>1.923615e+05</td>\n",
              "      <td>1.726538e+05</td>\n",
              "      <td>1.666974e+05</td>\n",
              "      <td>2.013518e+05</td>\n",
              "      <td>1.859404e+05</td>\n",
              "      <td>12.462385</td>\n",
              "      <td>12.280493</td>\n",
              "      <td>12.167132</td>\n",
              "      <td>12.136876</td>\n",
              "      <td>1.167898</td>\n",
              "      <td>2.676398</td>\n",
              "      <td>NaN</td>\n",
              "      <td>NaN</td>\n",
              "      <td>0.792123</td>\n",
              "      <td>0.934556</td>\n",
              "      <td>0.893203</td>\n",
              "      <td>0.966620</td>\n",
              "      <td>0.753892</td>\n",
              "      <td>0.808295</td>\n",
              "      <td>1.414214</td>\n",
              "      <td>NaN</td>\n",
              "      <td>1</td>\n",
              "      <td>1</td>\n",
              "      <td>3</td>\n",
              "      <td>4</td>\n",
              "      <td>4</td>\n",
              "      <td>0</td>\n",
              "      <td>4</td>\n",
              "      <td>5</td>\n",
              "      <td>NaN</td>\n",
              "      <td>NaN</td>\n",
              "      <td>NaN</td>\n",
              "      <td>NaN</td>\n",
              "      <td>...</td>\n",
              "      <td>0</td>\n",
              "      <td>0</td>\n",
              "      <td>0</td>\n",
              "      <td>0</td>\n",
              "      <td>0</td>\n",
              "      <td>0</td>\n",
              "      <td>0</td>\n",
              "      <td>0</td>\n",
              "      <td>0</td>\n",
              "      <td>0</td>\n",
              "      <td>0</td>\n",
              "      <td>0</td>\n",
              "      <td>0</td>\n",
              "      <td>1</td>\n",
              "      <td>0</td>\n",
              "      <td>0</td>\n",
              "      <td>0</td>\n",
              "      <td>0</td>\n",
              "      <td>0</td>\n",
              "      <td>0</td>\n",
              "      <td>0</td>\n",
              "      <td>0</td>\n",
              "      <td>0</td>\n",
              "      <td>0</td>\n",
              "      <td>0</td>\n",
              "      <td>0</td>\n",
              "      <td>0</td>\n",
              "      <td>0</td>\n",
              "      <td>0</td>\n",
              "      <td>0</td>\n",
              "      <td>0</td>\n",
              "      <td>0</td>\n",
              "      <td>0</td>\n",
              "      <td>0</td>\n",
              "      <td>41.0</td>\n",
              "      <td>41.0</td>\n",
              "      <td>38.0</td>\n",
              "      <td>12.0</td>\n",
              "      <td>12.0</td>\n",
              "      <td>11.0</td>\n",
              "    </tr>\n",
              "    <tr>\n",
              "      <th>2</th>\n",
              "      <td>RIHOG1SZU</td>\n",
              "      <td>0</td>\n",
              "      <td>1.459355e+07</td>\n",
              "      <td>1.260060e+07</td>\n",
              "      <td>1.100315e+07</td>\n",
              "      <td>1.010315e+07</td>\n",
              "      <td>1.879882e+07</td>\n",
              "      <td>1.514035e+07</td>\n",
              "      <td>5.320778e+06</td>\n",
              "      <td>6.906324e+06</td>\n",
              "      <td>9.368338e+06</td>\n",
              "      <td>1.113330e+07</td>\n",
              "      <td>16.496090</td>\n",
              "      <td>16.749305</td>\n",
              "      <td>16.532874</td>\n",
              "      <td>16.128357</td>\n",
              "      <td>1.145182</td>\n",
              "      <td>2.203874</td>\n",
              "      <td>NaN</td>\n",
              "      <td>NaN</td>\n",
              "      <td>0.422264</td>\n",
              "      <td>0.498347</td>\n",
              "      <td>0.683582</td>\n",
              "      <td>0.735339</td>\n",
              "      <td>0.808115</td>\n",
              "      <td>0.776910</td>\n",
              "      <td>1.414214</td>\n",
              "      <td>NaN</td>\n",
              "      <td>3</td>\n",
              "      <td>3</td>\n",
              "      <td>4</td>\n",
              "      <td>12</td>\n",
              "      <td>4</td>\n",
              "      <td>0</td>\n",
              "      <td>2</td>\n",
              "      <td>4</td>\n",
              "      <td>NaN</td>\n",
              "      <td>1.0</td>\n",
              "      <td>NaN</td>\n",
              "      <td>NaN</td>\n",
              "      <td>...</td>\n",
              "      <td>1</td>\n",
              "      <td>0</td>\n",
              "      <td>1</td>\n",
              "      <td>0</td>\n",
              "      <td>1</td>\n",
              "      <td>0</td>\n",
              "      <td>0</td>\n",
              "      <td>0</td>\n",
              "      <td>0</td>\n",
              "      <td>0</td>\n",
              "      <td>2</td>\n",
              "      <td>0</td>\n",
              "      <td>1</td>\n",
              "      <td>1</td>\n",
              "      <td>0</td>\n",
              "      <td>0</td>\n",
              "      <td>0</td>\n",
              "      <td>0</td>\n",
              "      <td>0</td>\n",
              "      <td>0</td>\n",
              "      <td>2</td>\n",
              "      <td>0</td>\n",
              "      <td>0</td>\n",
              "      <td>0</td>\n",
              "      <td>0</td>\n",
              "      <td>0</td>\n",
              "      <td>0</td>\n",
              "      <td>0</td>\n",
              "      <td>0</td>\n",
              "      <td>0</td>\n",
              "      <td>0</td>\n",
              "      <td>1</td>\n",
              "      <td>1</td>\n",
              "      <td>0</td>\n",
              "      <td>378.0</td>\n",
              "      <td>378.0</td>\n",
              "      <td>310.0</td>\n",
              "      <td>21.0</td>\n",
              "      <td>21.0</td>\n",
              "      <td>16.0</td>\n",
              "    </tr>\n",
              "    <tr>\n",
              "      <th>3</th>\n",
              "      <td>RIHOLMQWU</td>\n",
              "      <td>0</td>\n",
              "      <td>6.727043e+05</td>\n",
              "      <td>8.181116e+05</td>\n",
              "      <td>6.794893e+05</td>\n",
              "      <td>6.794893e+05</td>\n",
              "      <td>8.257254e+05</td>\n",
              "      <td>7.605803e+05</td>\n",
              "      <td>3.577134e+05</td>\n",
              "      <td>4.236612e+05</td>\n",
              "      <td>4.304848e+05</td>\n",
              "      <td>4.065539e+05</td>\n",
              "      <td>13.419061</td>\n",
              "      <td>13.624018</td>\n",
              "      <td>13.541837</td>\n",
              "      <td>13.429097</td>\n",
              "      <td>1.204010</td>\n",
              "      <td>0.536304</td>\n",
              "      <td>NaN</td>\n",
              "      <td>NaN</td>\n",
              "      <td>0.437243</td>\n",
              "      <td>0.521341</td>\n",
              "      <td>0.623499</td>\n",
              "      <td>0.534531</td>\n",
              "      <td>-0.125829</td>\n",
              "      <td>0.388830</td>\n",
              "      <td>-1.414214</td>\n",
              "      <td>NaN</td>\n",
              "      <td>2</td>\n",
              "      <td>2</td>\n",
              "      <td>2</td>\n",
              "      <td>24</td>\n",
              "      <td>1</td>\n",
              "      <td>0</td>\n",
              "      <td>1</td>\n",
              "      <td>4</td>\n",
              "      <td>NaN</td>\n",
              "      <td>NaN</td>\n",
              "      <td>NaN</td>\n",
              "      <td>NaN</td>\n",
              "      <td>...</td>\n",
              "      <td>0</td>\n",
              "      <td>0</td>\n",
              "      <td>0</td>\n",
              "      <td>0</td>\n",
              "      <td>0</td>\n",
              "      <td>0</td>\n",
              "      <td>0</td>\n",
              "      <td>0</td>\n",
              "      <td>0</td>\n",
              "      <td>1</td>\n",
              "      <td>2</td>\n",
              "      <td>0</td>\n",
              "      <td>1</td>\n",
              "      <td>2</td>\n",
              "      <td>0</td>\n",
              "      <td>0</td>\n",
              "      <td>0</td>\n",
              "      <td>0</td>\n",
              "      <td>0</td>\n",
              "      <td>1</td>\n",
              "      <td>2</td>\n",
              "      <td>0</td>\n",
              "      <td>0</td>\n",
              "      <td>0</td>\n",
              "      <td>0</td>\n",
              "      <td>0</td>\n",
              "      <td>1</td>\n",
              "      <td>2</td>\n",
              "      <td>0</td>\n",
              "      <td>0</td>\n",
              "      <td>0</td>\n",
              "      <td>0</td>\n",
              "      <td>0</td>\n",
              "      <td>0</td>\n",
              "      <td>702.0</td>\n",
              "      <td>702.0</td>\n",
              "      <td>644.0</td>\n",
              "      <td>951.0</td>\n",
              "      <td>951.0</td>\n",
              "      <td>743.0</td>\n",
              "    </tr>\n",
              "    <tr>\n",
              "      <th>4</th>\n",
              "      <td>RIHO584ET</td>\n",
              "      <td>0</td>\n",
              "      <td>-1.218742e+06</td>\n",
              "      <td>-3.005361e+06</td>\n",
              "      <td>-1.666241e+05</td>\n",
              "      <td>-2.403574e+06</td>\n",
              "      <td>2.583183e+06</td>\n",
              "      <td>2.086546e+06</td>\n",
              "      <td>5.938358e+06</td>\n",
              "      <td>5.446532e+06</td>\n",
              "      <td>3.473444e+06</td>\n",
              "      <td>3.262168e+06</td>\n",
              "      <td>NaN</td>\n",
              "      <td>14.764533</td>\n",
              "      <td>14.551021</td>\n",
              "      <td>NaN</td>\n",
              "      <td>NaN</td>\n",
              "      <td>NaN</td>\n",
              "      <td>NaN</td>\n",
              "      <td>NaN</td>\n",
              "      <td>NaN</td>\n",
              "      <td>1.344637</td>\n",
              "      <td>NaN</td>\n",
              "      <td>1.563430</td>\n",
              "      <td>-0.113101</td>\n",
              "      <td>0.617486</td>\n",
              "      <td>1.414214</td>\n",
              "      <td>NaN</td>\n",
              "      <td>4</td>\n",
              "      <td>3</td>\n",
              "      <td>4</td>\n",
              "      <td>68</td>\n",
              "      <td>8</td>\n",
              "      <td>0</td>\n",
              "      <td>2</td>\n",
              "      <td>4</td>\n",
              "      <td>NaN</td>\n",
              "      <td>3.0</td>\n",
              "      <td>NaN</td>\n",
              "      <td>NaN</td>\n",
              "      <td>...</td>\n",
              "      <td>0</td>\n",
              "      <td>0</td>\n",
              "      <td>0</td>\n",
              "      <td>0</td>\n",
              "      <td>0</td>\n",
              "      <td>0</td>\n",
              "      <td>2</td>\n",
              "      <td>1</td>\n",
              "      <td>0</td>\n",
              "      <td>0</td>\n",
              "      <td>0</td>\n",
              "      <td>0</td>\n",
              "      <td>2</td>\n",
              "      <td>1</td>\n",
              "      <td>2</td>\n",
              "      <td>1</td>\n",
              "      <td>0</td>\n",
              "      <td>0</td>\n",
              "      <td>0</td>\n",
              "      <td>0</td>\n",
              "      <td>0</td>\n",
              "      <td>0</td>\n",
              "      <td>0</td>\n",
              "      <td>0</td>\n",
              "      <td>0</td>\n",
              "      <td>0</td>\n",
              "      <td>0</td>\n",
              "      <td>0</td>\n",
              "      <td>2</td>\n",
              "      <td>0</td>\n",
              "      <td>0</td>\n",
              "      <td>0</td>\n",
              "      <td>0</td>\n",
              "      <td>0</td>\n",
              "      <td>1305.0</td>\n",
              "      <td>1305.0</td>\n",
              "      <td>1211.0</td>\n",
              "      <td>2205.0</td>\n",
              "      <td>2205.0</td>\n",
              "      <td>1831.0</td>\n",
              "    </tr>\n",
              "  </tbody>\n",
              "</table>\n",
              "<p>5 rows × 2395 columns</p>\n",
              "</div>"
            ],
            "text/plain": [
              "        Col1  Col2          Col3  ...  Col2395  Col2396  Col2397\n",
              "0    RIGHGSN     1  1.086711e+04  ...     22.0     22.0      7.0\n",
              "1  RIMHI5ZGP     0  2.584312e+05  ...     12.0     12.0     11.0\n",
              "2  RIHOG1SZU     0  1.459355e+07  ...     21.0     21.0     16.0\n",
              "3  RIHOLMQWU     0  6.727043e+05  ...    951.0    951.0    743.0\n",
              "4  RIHO584ET     0 -1.218742e+06  ...   2205.0   2205.0   1831.0\n",
              "\n",
              "[5 rows x 2395 columns]"
            ]
          },
          "metadata": {
            "tags": []
          },
          "execution_count": 106
        }
      ]
    },
    {
      "cell_type": "markdown",
      "metadata": {
        "id": "w12Ge1b0_gZT",
        "colab_type": "text"
      },
      "source": [
        "1st column is ID and Second columns is Target variable"
      ]
    },
    {
      "cell_type": "code",
      "metadata": {
        "id": "5ZRmMFKavBMY",
        "colab_type": "code",
        "colab": {}
      },
      "source": [
        "train_last_index = 17520"
      ],
      "execution_count": 0,
      "outputs": []
    },
    {
      "cell_type": "markdown",
      "metadata": {
        "id": "XKrsPimVvguL",
        "colab_type": "text"
      },
      "source": [
        "## TODO:Combine test train and process"
      ]
    },
    {
      "cell_type": "code",
      "metadata": {
        "id": "wN_c1jKo_SM5",
        "colab_type": "code",
        "colab": {
          "base_uri": "https://localhost:8080/",
          "height": 35
        },
        "outputId": "eecff5c2-5853-4092-8159-12530e34e0d9"
      },
      "source": [
        "X = train_df.iloc[:,2:]\n",
        "\n",
        "X.shape"
      ],
      "execution_count": 71,
      "outputs": [
        {
          "output_type": "execute_result",
          "data": {
            "text/plain": [
              "(17521, 2393)"
            ]
          },
          "metadata": {
            "tags": []
          },
          "execution_count": 71
        }
      ]
    },
    {
      "cell_type": "code",
      "metadata": {
        "id": "voMUMJBVAmXy",
        "colab_type": "code",
        "colab": {}
      },
      "source": [
        "# Columns Null check\n",
        "def null_cols(d,columns):\n",
        "  na = d[columns].isna().sum().sort_values(ascending=False)\n",
        "  return na[na > 0].index.to_list()"
      ],
      "execution_count": 0,
      "outputs": []
    },
    {
      "cell_type": "code",
      "metadata": {
        "id": "1XPY_EFKB2n3",
        "colab_type": "code",
        "colab": {
          "base_uri": "https://localhost:8080/",
          "height": 69
        },
        "outputId": "07785b2d-2e87-4780-b788-7a7f1cf8c557"
      },
      "source": [
        "# Numerical columns\n",
        "num_cols = X.select_dtypes(include=\"number\").columns\n",
        "print('Total',len(num_cols))\n",
        "\n",
        "na_cols = null_cols(X,num_cols)\n",
        "print('1.Null columns',len(na_cols))\n",
        "\n",
        "if len(na_cols) > 0:\n",
        "  X[na_cols]= X[na_cols].fillna(method='ffill')\n",
        "  X[na_cols]= X[na_cols].fillna(method='bfill')\n",
        "  na_cols = null_cols(X,num_cols)\n",
        "  print('2.Null columns',len(na_cols))"
      ],
      "execution_count": 73,
      "outputs": [
        {
          "output_type": "stream",
          "text": [
            "Total 2391\n",
            "1.Null columns 757\n",
            "2.Null columns 0\n"
          ],
          "name": "stdout"
        }
      ]
    },
    {
      "cell_type": "markdown",
      "metadata": {
        "id": "NBn3m9p1JJA2",
        "colab_type": "text"
      },
      "source": [
        "### Categorical columns"
      ]
    },
    {
      "cell_type": "code",
      "metadata": {
        "id": "92jp6zahAmkc",
        "colab_type": "code",
        "colab": {
          "base_uri": "https://localhost:8080/",
          "height": 69
        },
        "outputId": "3b0810f1-ab1f-4fa2-8bfd-92a5651a524f"
      },
      "source": [
        "cat_cols = X.select_dtypes(exclude=\"number\").columns.to_list()\n",
        "\n",
        "print('Total',len(cat_cols))\n",
        "na_cols = null_cols(X,cat_cols)\n",
        "print('1.Null columns',len(na_cols))\n",
        "\n",
        "if len(na_cols) > 0:\n",
        "  X[na_cols]= X[na_cols].fillna(method='ffill')\n",
        "  X[na_cols]= X[na_cols].fillna(method='bfill')\n",
        "  na_cols = null_cols(X,cat_cols)\n",
        "  print('2.Null columns',len(na_cols))"
      ],
      "execution_count": 82,
      "outputs": [
        {
          "output_type": "stream",
          "text": [
            "Total 2\n",
            "1.Null columns 2\n",
            "2.Null columns 0\n"
          ],
          "name": "stdout"
        }
      ]
    },
    {
      "cell_type": "code",
      "metadata": {
        "id": "e07h0-BvJZPR",
        "colab_type": "code",
        "colab": {
          "base_uri": "https://localhost:8080/",
          "height": 35
        },
        "outputId": "59d740f8-199a-47a6-d8aa-747a84629adf"
      },
      "source": [
        "cat_cols"
      ],
      "execution_count": 75,
      "outputs": [
        {
          "output_type": "execute_result",
          "data": {
            "text/plain": [
              "['Col747', 'Col836']"
            ]
          },
          "metadata": {
            "tags": []
          },
          "execution_count": 75
        }
      ]
    },
    {
      "cell_type": "code",
      "metadata": {
        "id": "dnzKBH9AJGqz",
        "colab_type": "code",
        "colab": {
          "base_uri": "https://localhost:8080/",
          "height": 243
        },
        "outputId": "241e1024-cb6f-4761-8558-b4473c262351"
      },
      "source": [
        "print(X['Col747'].value_counts())\n",
        "X['Col747'] = X['Col747'].replace({0.0:0,'-':2})\n",
        "\n",
        "X['Col747'].value_counts()"
      ],
      "execution_count": 83,
      "outputs": [
        {
          "output_type": "stream",
          "text": [
            "0      12057\n",
            "2       3219\n",
            "0       2168\n",
            "1         43\n",
            "3         27\n",
            "5.0        7\n",
            "Name: Col747, dtype: int64\n"
          ],
          "name": "stdout"
        },
        {
          "output_type": "execute_result",
          "data": {
            "text/plain": [
              "0    14225\n",
              "2     3219\n",
              "1       43\n",
              "3       27\n",
              "5        7\n",
              "Name: Col747, dtype: int64"
            ]
          },
          "metadata": {
            "tags": []
          },
          "execution_count": 83
        }
      ]
    },
    {
      "cell_type": "code",
      "metadata": {
        "id": "tPYOnQRaNFgN",
        "colab_type": "code",
        "colab": {
          "base_uri": "https://localhost:8080/",
          "height": 173
        },
        "outputId": "7ad66178-f794-4dda-91f9-b77b1e0fb0bb"
      },
      "source": [
        "print(X['Col836'].value_counts())\n",
        "\n",
        "X['Col836'] = X['Col836'].replace({0.0:0,'-':2})\n",
        "\n",
        "X['Col836'].value_counts()"
      ],
      "execution_count": 84,
      "outputs": [
        {
          "output_type": "stream",
          "text": [
            "0    11961\n",
            "2     3614\n",
            "0     1934\n",
            "5       12\n",
            "Name: Col836, dtype: int64\n"
          ],
          "name": "stdout"
        },
        {
          "output_type": "execute_result",
          "data": {
            "text/plain": [
              "0    13895\n",
              "2     3614\n",
              "5       12\n",
              "Name: Col836, dtype: int64"
            ]
          },
          "metadata": {
            "tags": []
          },
          "execution_count": 84
        }
      ]
    },
    {
      "cell_type": "markdown",
      "metadata": {
        "id": "EzOgxlfc_2fJ",
        "colab_type": "text"
      },
      "source": [
        "### Separating the Y variable"
      ]
    },
    {
      "cell_type": "code",
      "metadata": {
        "id": "tysiRJhpASVR",
        "colab_type": "code",
        "outputId": "ab088d45-af09-485c-df4c-63863fc0d7b0",
        "colab": {
          "base_uri": "https://localhost:8080/",
          "height": 139
        }
      },
      "source": [
        "y = train_df.iloc[:,[1]]\n",
        "print( y.head())\n",
        "y.shape"
      ],
      "execution_count": 78,
      "outputs": [
        {
          "output_type": "stream",
          "text": [
            "   Col2\n",
            "0     1\n",
            "1     0\n",
            "2     0\n",
            "3     0\n",
            "4     0\n"
          ],
          "name": "stdout"
        },
        {
          "output_type": "execute_result",
          "data": {
            "text/plain": [
              "(17521, 1)"
            ]
          },
          "metadata": {
            "tags": []
          },
          "execution_count": 78
        }
      ]
    },
    {
      "cell_type": "code",
      "metadata": {
        "id": "ltCQpVvNHHLL",
        "colab_type": "code",
        "colab": {
          "base_uri": "https://localhost:8080/",
          "height": 35
        },
        "outputId": "15a53092-079a-4a94-fb2a-f0f0bb50518a"
      },
      "source": [
        "y.columns"
      ],
      "execution_count": 79,
      "outputs": [
        {
          "output_type": "execute_result",
          "data": {
            "text/plain": [
              "Index(['Col2'], dtype='object')"
            ]
          },
          "metadata": {
            "tags": []
          },
          "execution_count": 79
        }
      ]
    },
    {
      "cell_type": "code",
      "metadata": {
        "id": "KJh1SX5WAmwg",
        "colab_type": "code",
        "colab": {
          "base_uri": "https://localhost:8080/",
          "height": 35
        },
        "outputId": "3777441c-4907-4dd7-f43c-c5d60ae20b2c"
      },
      "source": [
        "null_cols(y,y.columns)"
      ],
      "execution_count": 80,
      "outputs": [
        {
          "output_type": "execute_result",
          "data": {
            "text/plain": [
              "[]"
            ]
          },
          "metadata": {
            "tags": []
          },
          "execution_count": 80
        }
      ]
    },
    {
      "cell_type": "markdown",
      "metadata": {
        "id": "Yvp10NM58a7q",
        "colab_type": "text"
      },
      "source": [
        "### t-SNE\n"
      ]
    },
    {
      "cell_type": "markdown",
      "metadata": {
        "id": "FRZBJutiTb5q",
        "colab_type": "text"
      },
      "source": [
        " n | divergence |\n",
        "---|---|\n",
        "3| 1.552975"
      ]
    },
    {
      "cell_type": "code",
      "metadata": {
        "id": "gY9P3c4aH4ih",
        "colab_type": "code",
        "colab": {
          "base_uri": "https://localhost:8080/",
          "height": 433
        },
        "outputId": "c8deaa17-9bbb-4558-c432-60a29c589847"
      },
      "source": [
        "if X.isna().sum().sum() < 1:\n",
        "  model = TSNE(n_components=3,random_state=0,verbose=1)\n",
        "\n",
        "  tsne_data = model.fit_transform(X)\n",
        "else:\n",
        "  print('Null vals present')"
      ],
      "execution_count": 85,
      "outputs": [
        {
          "output_type": "stream",
          "text": [
            "[t-SNE] Computing 91 nearest neighbors...\n",
            "[t-SNE] Indexed 17521 samples in 3.476s...\n",
            "[t-SNE] Computed neighbors for 17521 samples in 318.559s...\n",
            "[t-SNE] Computed conditional probabilities for sample 1000 / 17521\n",
            "[t-SNE] Computed conditional probabilities for sample 2000 / 17521\n",
            "[t-SNE] Computed conditional probabilities for sample 3000 / 17521\n",
            "[t-SNE] Computed conditional probabilities for sample 4000 / 17521\n",
            "[t-SNE] Computed conditional probabilities for sample 5000 / 17521\n",
            "[t-SNE] Computed conditional probabilities for sample 6000 / 17521\n",
            "[t-SNE] Computed conditional probabilities for sample 7000 / 17521\n",
            "[t-SNE] Computed conditional probabilities for sample 8000 / 17521\n",
            "[t-SNE] Computed conditional probabilities for sample 9000 / 17521\n",
            "[t-SNE] Computed conditional probabilities for sample 10000 / 17521\n",
            "[t-SNE] Computed conditional probabilities for sample 11000 / 17521\n",
            "[t-SNE] Computed conditional probabilities for sample 12000 / 17521\n",
            "[t-SNE] Computed conditional probabilities for sample 13000 / 17521\n",
            "[t-SNE] Computed conditional probabilities for sample 14000 / 17521\n",
            "[t-SNE] Computed conditional probabilities for sample 15000 / 17521\n",
            "[t-SNE] Computed conditional probabilities for sample 16000 / 17521\n",
            "[t-SNE] Computed conditional probabilities for sample 17000 / 17521\n",
            "[t-SNE] Computed conditional probabilities for sample 17521 / 17521\n",
            "[t-SNE] Mean sigma: 0.000000\n",
            "[t-SNE] KL divergence after 250 iterations with early exaggeration: 82.868340\n",
            "[t-SNE] KL divergence after 1000 iterations: 1.552975\n"
          ],
          "name": "stdout"
        }
      ]
    },
    {
      "cell_type": "code",
      "metadata": {
        "id": "vno7q82rggVF",
        "colab_type": "code",
        "colab": {
          "base_uri": "https://localhost:8080/",
          "height": 35
        },
        "outputId": "37282328-a699-4a1c-8033-2bcdf78c8571"
      },
      "source": [
        "tsne_data.shape"
      ],
      "execution_count": 88,
      "outputs": [
        {
          "output_type": "execute_result",
          "data": {
            "text/plain": [
              "(17521, 3)"
            ]
          },
          "metadata": {
            "tags": []
          },
          "execution_count": 88
        }
      ]
    },
    {
      "cell_type": "markdown",
      "metadata": {
        "id": "FrlQq1eq9F_q",
        "colab_type": "text"
      },
      "source": [
        "## EDA"
      ]
    },
    {
      "cell_type": "code",
      "metadata": {
        "id": "X6e29z8o9JdW",
        "colab_type": "code",
        "colab": {
          "base_uri": "https://localhost:8080/",
          "height": 35
        },
        "outputId": "a22793f5-48d1-4a5f-f998-330a3f0cc632"
      },
      "source": [
        "np.hstack((tsne_data,y)).shape"
      ],
      "execution_count": 92,
      "outputs": [
        {
          "output_type": "execute_result",
          "data": {
            "text/plain": [
              "(17521, 4)"
            ]
          },
          "metadata": {
            "tags": []
          },
          "execution_count": 92
        }
      ]
    },
    {
      "cell_type": "code",
      "metadata": {
        "id": "nFtMgVEbh2Xe",
        "colab_type": "code",
        "colab": {
          "base_uri": "https://localhost:8080/",
          "height": 202
        },
        "outputId": "fdc2e957-ca15-4379-e08c-b00fccad5a7c"
      },
      "source": [
        "join_data = np.hstack((tsne_data,y))\n",
        "dfa = pd.DataFrame(join_data,columns=(\"dim1\",'dim2','dim3','label'))\n",
        "dfa.head()"
      ],
      "execution_count": 95,
      "outputs": [
        {
          "output_type": "execute_result",
          "data": {
            "text/html": [
              "<div>\n",
              "<style scoped>\n",
              "    .dataframe tbody tr th:only-of-type {\n",
              "        vertical-align: middle;\n",
              "    }\n",
              "\n",
              "    .dataframe tbody tr th {\n",
              "        vertical-align: top;\n",
              "    }\n",
              "\n",
              "    .dataframe thead th {\n",
              "        text-align: right;\n",
              "    }\n",
              "</style>\n",
              "<table border=\"1\" class=\"dataframe\">\n",
              "  <thead>\n",
              "    <tr style=\"text-align: right;\">\n",
              "      <th></th>\n",
              "      <th>dim1</th>\n",
              "      <th>dim2</th>\n",
              "      <th>dim3</th>\n",
              "      <th>label</th>\n",
              "    </tr>\n",
              "  </thead>\n",
              "  <tbody>\n",
              "    <tr>\n",
              "      <th>0</th>\n",
              "      <td>21.475069</td>\n",
              "      <td>-4.415465</td>\n",
              "      <td>5.827500</td>\n",
              "      <td>1.0</td>\n",
              "    </tr>\n",
              "    <tr>\n",
              "      <th>1</th>\n",
              "      <td>5.372247</td>\n",
              "      <td>8.917239</td>\n",
              "      <td>24.667055</td>\n",
              "      <td>0.0</td>\n",
              "    </tr>\n",
              "    <tr>\n",
              "      <th>2</th>\n",
              "      <td>1.860934</td>\n",
              "      <td>10.122095</td>\n",
              "      <td>25.241201</td>\n",
              "      <td>0.0</td>\n",
              "    </tr>\n",
              "    <tr>\n",
              "      <th>3</th>\n",
              "      <td>1.191403</td>\n",
              "      <td>8.482532</td>\n",
              "      <td>26.295971</td>\n",
              "      <td>0.0</td>\n",
              "    </tr>\n",
              "    <tr>\n",
              "      <th>4</th>\n",
              "      <td>1.915629</td>\n",
              "      <td>10.173975</td>\n",
              "      <td>25.171600</td>\n",
              "      <td>0.0</td>\n",
              "    </tr>\n",
              "  </tbody>\n",
              "</table>\n",
              "</div>"
            ],
            "text/plain": [
              "        dim1       dim2       dim3  label\n",
              "0  21.475069  -4.415465   5.827500    1.0\n",
              "1   5.372247   8.917239  24.667055    0.0\n",
              "2   1.860934  10.122095  25.241201    0.0\n",
              "3   1.191403   8.482532  26.295971    0.0\n",
              "4   1.915629  10.173975  25.171600    0.0"
            ]
          },
          "metadata": {
            "tags": []
          },
          "execution_count": 95
        }
      ]
    },
    {
      "cell_type": "code",
      "metadata": {
        "id": "YXMm0hY0jFPJ",
        "colab_type": "code",
        "colab": {
          "base_uri": "https://localhost:8080/",
          "height": 294
        },
        "outputId": "71304ce3-4825-444c-9439-3c8fff183a8e"
      },
      "source": [
        "dfa.describe()"
      ],
      "execution_count": 96,
      "outputs": [
        {
          "output_type": "execute_result",
          "data": {
            "text/html": [
              "<div>\n",
              "<style scoped>\n",
              "    .dataframe tbody tr th:only-of-type {\n",
              "        vertical-align: middle;\n",
              "    }\n",
              "\n",
              "    .dataframe tbody tr th {\n",
              "        vertical-align: top;\n",
              "    }\n",
              "\n",
              "    .dataframe thead th {\n",
              "        text-align: right;\n",
              "    }\n",
              "</style>\n",
              "<table border=\"1\" class=\"dataframe\">\n",
              "  <thead>\n",
              "    <tr style=\"text-align: right;\">\n",
              "      <th></th>\n",
              "      <th>dim1</th>\n",
              "      <th>dim2</th>\n",
              "      <th>dim3</th>\n",
              "      <th>label</th>\n",
              "    </tr>\n",
              "  </thead>\n",
              "  <tbody>\n",
              "    <tr>\n",
              "      <th>count</th>\n",
              "      <td>17521.000000</td>\n",
              "      <td>17521.000000</td>\n",
              "      <td>17521.000000</td>\n",
              "      <td>17521.000000</td>\n",
              "    </tr>\n",
              "    <tr>\n",
              "      <th>mean</th>\n",
              "      <td>0.163096</td>\n",
              "      <td>-0.166457</td>\n",
              "      <td>0.193013</td>\n",
              "      <td>0.100508</td>\n",
              "    </tr>\n",
              "    <tr>\n",
              "      <th>std</th>\n",
              "      <td>11.746889</td>\n",
              "      <td>11.187764</td>\n",
              "      <td>9.467719</td>\n",
              "      <td>0.300685</td>\n",
              "    </tr>\n",
              "    <tr>\n",
              "      <th>min</th>\n",
              "      <td>-27.499273</td>\n",
              "      <td>-24.630388</td>\n",
              "      <td>-21.305798</td>\n",
              "      <td>0.000000</td>\n",
              "    </tr>\n",
              "    <tr>\n",
              "      <th>25%</th>\n",
              "      <td>-8.437990</td>\n",
              "      <td>-9.007665</td>\n",
              "      <td>-7.015630</td>\n",
              "      <td>0.000000</td>\n",
              "    </tr>\n",
              "    <tr>\n",
              "      <th>50%</th>\n",
              "      <td>-0.821269</td>\n",
              "      <td>1.187731</td>\n",
              "      <td>0.077543</td>\n",
              "      <td>0.000000</td>\n",
              "    </tr>\n",
              "    <tr>\n",
              "      <th>75%</th>\n",
              "      <td>9.980272</td>\n",
              "      <td>8.434531</td>\n",
              "      <td>6.977884</td>\n",
              "      <td>0.000000</td>\n",
              "    </tr>\n",
              "    <tr>\n",
              "      <th>max</th>\n",
              "      <td>25.783257</td>\n",
              "      <td>25.566917</td>\n",
              "      <td>26.865749</td>\n",
              "      <td>1.000000</td>\n",
              "    </tr>\n",
              "  </tbody>\n",
              "</table>\n",
              "</div>"
            ],
            "text/plain": [
              "               dim1          dim2          dim3         label\n",
              "count  17521.000000  17521.000000  17521.000000  17521.000000\n",
              "mean       0.163096     -0.166457      0.193013      0.100508\n",
              "std       11.746889     11.187764      9.467719      0.300685\n",
              "min      -27.499273    -24.630388    -21.305798      0.000000\n",
              "25%       -8.437990     -9.007665     -7.015630      0.000000\n",
              "50%       -0.821269      1.187731      0.077543      0.000000\n",
              "75%        9.980272      8.434531      6.977884      0.000000\n",
              "max       25.783257     25.566917     26.865749      1.000000"
            ]
          },
          "metadata": {
            "tags": []
          },
          "execution_count": 96
        }
      ]
    },
    {
      "cell_type": "code",
      "metadata": {
        "id": "k9NgDh7rjFfz",
        "colab_type": "code",
        "colab": {}
      },
      "source": [
        ""
      ],
      "execution_count": 0,
      "outputs": []
    },
    {
      "cell_type": "markdown",
      "metadata": {
        "id": "3xmMmxL1iUVc",
        "colab_type": "text"
      },
      "source": [
        "### dim1 v/s dim2"
      ]
    },
    {
      "cell_type": "code",
      "metadata": {
        "id": "II9N52TAi-vh",
        "colab_type": "code",
        "colab": {
          "base_uri": "https://localhost:8080/",
          "height": 1000
        },
        "outputId": "3605dfef-e274-4582-9e79-ced645edc959"
      },
      "source": [
        "ax = sns.FacetGrid(dfa,hue=\"label\",height=6).map(sns.distplot,'dim1').add_legend()\n",
        "ax1 = sns.FacetGrid(dfa,hue=\"label\",height=6).map(sns.distplot,'dim2').add_legend()\n",
        "ax3 = sns.FacetGrid(dfa,hue=\"label\",height=6).map(sns.distplot,'dim3').add_legend()"
      ],
      "execution_count": 104,
      "outputs": [
        {
          "output_type": "display_data",
          "data": {
            "image/png": "[encoded data removed]",
            "text/plain": [
              "<Figure size 483.875x432 with 1 Axes>"
            ]
          },
          "metadata": {
            "tags": []
          }
        },
        {
          "output_type": "display_data",
          "data": {
            "image/png": "[encoded data removed]",
            "text/plain": [
              "<Figure size 483.875x432 with 1 Axes>"
            ]
          },
          "metadata": {
            "tags": []
          }
        },
        {
          "output_type": "display_data",
          "data": {
            "image/png": "[encoded data removed]",
            "text/plain": [
              "<Figure size 483.875x432 with 1 Axes>"
            ]
          },
          "metadata": {
            "tags": []
          }
        }
      ]
    },
    {
      "cell_type": "markdown",
      "metadata": {
        "id": "_PKUmTLg9KAx",
        "colab_type": "text"
      },
      "source": [
        "## Modelling"
      ]
    },
    {
      "cell_type": "code",
      "metadata": {
        "id": "2woK3sn-miVm",
        "colab_type": "code",
        "colab": {
          "base_uri": "https://localhost:8080/",
          "height": 260
        },
        "outputId": "1dca15ed-f885-4f97-ccd0-4ef852935973"
      },
      "source": [
        "model.get_params()"
      ],
      "execution_count": 109,
      "outputs": [
        {
          "output_type": "stream",
          "text": [
            "(20442, 2394)\n"
          ],
          "name": "stdout"
        },
        {
          "output_type": "execute_result",
          "data": {
            "text/plain": [
              "{'angle': 0.5,\n",
              " 'early_exaggeration': 12.0,\n",
              " 'init': 'random',\n",
              " 'learning_rate': 200.0,\n",
              " 'method': 'barnes_hut',\n",
              " 'metric': 'euclidean',\n",
              " 'min_grad_norm': 1e-07,\n",
              " 'n_components': 3,\n",
              " 'n_iter': 1000,\n",
              " 'n_iter_without_progress': 300,\n",
              " 'perplexity': 30.0,\n",
              " 'random_state': 0,\n",
              " 'verbose': 1}"
            ]
          },
          "metadata": {
            "tags": []
          },
          "execution_count": 109
        }
      ]
    },
    {
      "cell_type": "markdown",
      "metadata": {
        "id": "HIk_Z95Os5MY",
        "colab_type": "text"
      },
      "source": [
        "### Test data prep"
      ]
    },
    {
      "cell_type": "code",
      "metadata": {
        "id": "5NlgQ5UNq-Dw",
        "colab_type": "code",
        "colab": {
          "base_uri": "https://localhost:8080/",
          "height": 121
        },
        "outputId": "69dc830e-da16-4c9c-ed0f-c280c4073776"
      },
      "source": [
        "test_id = test_df.iloc[:,0]\n",
        "test_id[:5]"
      ],
      "execution_count": 123,
      "outputs": [
        {
          "output_type": "execute_result",
          "data": {
            "text/plain": [
              "0    RIGD58ZWD\n",
              "1    RIH660YDS\n",
              "2    RIH660Q96\n",
              "3    RIYDO15W1\n",
              "4    RIYBGC1ZD\n",
              "Name: Col1, dtype: object"
            ]
          },
          "metadata": {
            "tags": []
          },
          "execution_count": 123
        }
      ]
    },
    {
      "cell_type": "code",
      "metadata": {
        "id": "bXtZ-VlGtHGU",
        "colab_type": "code",
        "colab": {
          "base_uri": "https://localhost:8080/",
          "height": 35
        },
        "outputId": "7461b407-f628-4116-ab29-637074bdeb41"
      },
      "source": [
        "test_X = test_df.iloc[:,1:]\n",
        "type(test_X)"
      ],
      "execution_count": 124,
      "outputs": [
        {
          "output_type": "execute_result",
          "data": {
            "text/plain": [
              "pandas.core.frame.DataFrame"
            ]
          },
          "metadata": {
            "tags": []
          },
          "execution_count": 124
        }
      ]
    },
    {
      "cell_type": "code",
      "metadata": {
        "id": "U6nNHwUAtTP7",
        "colab_type": "code",
        "colab": {
          "base_uri": "https://localhost:8080/",
          "height": 343
        },
        "outputId": "321fb99e-a03c-4302-b4cf-073ef2af8ec5"
      },
      "source": [
        "test_X.describe()"
      ],
      "execution_count": 125,
      "outputs": [
        {
          "output_type": "execute_result",
          "data": {
            "text/html": [
              "<div>\n",
              "<style scoped>\n",
              "    .dataframe tbody tr th:only-of-type {\n",
              "        vertical-align: middle;\n",
              "    }\n",
              "\n",
              "    .dataframe tbody tr th {\n",
              "        vertical-align: top;\n",
              "    }\n",
              "\n",
              "    .dataframe thead th {\n",
              "        text-align: right;\n",
              "    }\n",
              "</style>\n",
              "<table border=\"1\" class=\"dataframe\">\n",
              "  <thead>\n",
              "    <tr style=\"text-align: right;\">\n",
              "      <th></th>\n",
              "      <th>Col3</th>\n",
              "      <th>Col4</th>\n",
              "      <th>Col5</th>\n",
              "      <th>Col6</th>\n",
              "      <th>Col7</th>\n",
              "      <th>Col8</th>\n",
              "      <th>Col9</th>\n",
              "      <th>Col10</th>\n",
              "      <th>Col11</th>\n",
              "      <th>Col12</th>\n",
              "      <th>Col13</th>\n",
              "      <th>Col14</th>\n",
              "      <th>Col15</th>\n",
              "      <th>Col16</th>\n",
              "      <th>Col17</th>\n",
              "      <th>Col18</th>\n",
              "      <th>Col19</th>\n",
              "      <th>Col20</th>\n",
              "      <th>Col21</th>\n",
              "      <th>Col22</th>\n",
              "      <th>Col23</th>\n",
              "      <th>Col24</th>\n",
              "      <th>Col25</th>\n",
              "      <th>Col26</th>\n",
              "      <th>Col27</th>\n",
              "      <th>Col28</th>\n",
              "      <th>Col29</th>\n",
              "      <th>Col30</th>\n",
              "      <th>Col31</th>\n",
              "      <th>Col32</th>\n",
              "      <th>Col33</th>\n",
              "      <th>Col34</th>\n",
              "      <th>Col35</th>\n",
              "      <th>Col36</th>\n",
              "      <th>Col37</th>\n",
              "      <th>Col38</th>\n",
              "      <th>Col39</th>\n",
              "      <th>Col40</th>\n",
              "      <th>Col41</th>\n",
              "      <th>Col42</th>\n",
              "      <th>...</th>\n",
              "      <th>Col2358</th>\n",
              "      <th>Col2359</th>\n",
              "      <th>Col2360</th>\n",
              "      <th>Col2361</th>\n",
              "      <th>Col2362</th>\n",
              "      <th>Col2363</th>\n",
              "      <th>Col2364</th>\n",
              "      <th>Col2365</th>\n",
              "      <th>Col2366</th>\n",
              "      <th>Col2367</th>\n",
              "      <th>Col2368</th>\n",
              "      <th>Col2369</th>\n",
              "      <th>Col2370</th>\n",
              "      <th>Col2371</th>\n",
              "      <th>Col2372</th>\n",
              "      <th>Col2373</th>\n",
              "      <th>Col2374</th>\n",
              "      <th>Col2375</th>\n",
              "      <th>Col2376</th>\n",
              "      <th>Col2377</th>\n",
              "      <th>Col2378</th>\n",
              "      <th>Col2379</th>\n",
              "      <th>Col2380</th>\n",
              "      <th>Col2381</th>\n",
              "      <th>Col2382</th>\n",
              "      <th>Col2383</th>\n",
              "      <th>Col2384</th>\n",
              "      <th>Col2385</th>\n",
              "      <th>Col2386</th>\n",
              "      <th>Col2387</th>\n",
              "      <th>Col2388</th>\n",
              "      <th>Col2389</th>\n",
              "      <th>Col2390</th>\n",
              "      <th>Col2391</th>\n",
              "      <th>Col2392</th>\n",
              "      <th>Col2393</th>\n",
              "      <th>Col2394</th>\n",
              "      <th>Col2395</th>\n",
              "      <th>Col2396</th>\n",
              "      <th>Col2397</th>\n",
              "    </tr>\n",
              "  </thead>\n",
              "  <tbody>\n",
              "    <tr>\n",
              "      <th>count</th>\n",
              "      <td>2.044200e+04</td>\n",
              "      <td>2.044200e+04</td>\n",
              "      <td>2.044200e+04</td>\n",
              "      <td>2.044200e+04</td>\n",
              "      <td>2.044200e+04</td>\n",
              "      <td>2.044200e+04</td>\n",
              "      <td>2.044200e+04</td>\n",
              "      <td>2.044200e+04</td>\n",
              "      <td>2.044200e+04</td>\n",
              "      <td>2.044200e+04</td>\n",
              "      <td>19102.000000</td>\n",
              "      <td>19096.000000</td>\n",
              "      <td>19095.000000</td>\n",
              "      <td>19108.000000</td>\n",
              "      <td>18873.000000</td>\n",
              "      <td>17693.000000</td>\n",
              "      <td>2945.000000</td>\n",
              "      <td>3511.000000</td>\n",
              "      <td>19108.000000</td>\n",
              "      <td>19096.000000</td>\n",
              "      <td>19108.000000</td>\n",
              "      <td>19095.000000</td>\n",
              "      <td>20442.000000</td>\n",
              "      <td>20442.000000</td>\n",
              "      <td>20075.000000</td>\n",
              "      <td>7341.000000</td>\n",
              "      <td>20442.000000</td>\n",
              "      <td>20442.000000</td>\n",
              "      <td>20442.000000</td>\n",
              "      <td>20442.000000</td>\n",
              "      <td>20442.000000</td>\n",
              "      <td>20442.000000</td>\n",
              "      <td>20442.000000</td>\n",
              "      <td>20442.000000</td>\n",
              "      <td>1832.000000</td>\n",
              "      <td>755.000000</td>\n",
              "      <td>2992.000000</td>\n",
              "      <td>381.000000</td>\n",
              "      <td>1948.000000</td>\n",
              "      <td>1.883400e+04</td>\n",
              "      <td>...</td>\n",
              "      <td>20442.000000</td>\n",
              "      <td>20442.000000</td>\n",
              "      <td>20442.000000</td>\n",
              "      <td>20442.000000</td>\n",
              "      <td>20442.000000</td>\n",
              "      <td>20442.000000</td>\n",
              "      <td>20442.000000</td>\n",
              "      <td>20442.000000</td>\n",
              "      <td>20442.000000</td>\n",
              "      <td>20442.000000</td>\n",
              "      <td>20442.000000</td>\n",
              "      <td>20442.000000</td>\n",
              "      <td>20442.000000</td>\n",
              "      <td>20442.000000</td>\n",
              "      <td>20442.000000</td>\n",
              "      <td>20442.000000</td>\n",
              "      <td>20442.000000</td>\n",
              "      <td>20442.000000</td>\n",
              "      <td>20442.000000</td>\n",
              "      <td>20442.000000</td>\n",
              "      <td>20442.000000</td>\n",
              "      <td>20442.000000</td>\n",
              "      <td>20442.000000</td>\n",
              "      <td>20442.000000</td>\n",
              "      <td>20442.000000</td>\n",
              "      <td>20442.000000</td>\n",
              "      <td>20442.000000</td>\n",
              "      <td>20442.000000</td>\n",
              "      <td>20442.000000</td>\n",
              "      <td>20442.000000</td>\n",
              "      <td>20442.000000</td>\n",
              "      <td>20442.000000</td>\n",
              "      <td>20442.000000</td>\n",
              "      <td>20442.000000</td>\n",
              "      <td>19183.000000</td>\n",
              "      <td>19183.000000</td>\n",
              "      <td>19164.000000</td>\n",
              "      <td>19183.000000</td>\n",
              "      <td>19183.000000</td>\n",
              "      <td>19164.000000</td>\n",
              "    </tr>\n",
              "    <tr>\n",
              "      <th>mean</th>\n",
              "      <td>3.749822e+04</td>\n",
              "      <td>2.360107e+04</td>\n",
              "      <td>3.099296e+04</td>\n",
              "      <td>3.153122e+04</td>\n",
              "      <td>2.728287e+04</td>\n",
              "      <td>3.625497e+04</td>\n",
              "      <td>3.282116e+04</td>\n",
              "      <td>3.295643e+04</td>\n",
              "      <td>3.903867e+04</td>\n",
              "      <td>3.901378e+04</td>\n",
              "      <td>9.395002</td>\n",
              "      <td>9.136331</td>\n",
              "      <td>9.381553</td>\n",
              "      <td>9.324226</td>\n",
              "      <td>1.058392</td>\n",
              "      <td>2.938466</td>\n",
              "      <td>34.210326</td>\n",
              "      <td>8.685433</td>\n",
              "      <td>1.017168</td>\n",
              "      <td>1.154246</td>\n",
              "      <td>0.745563</td>\n",
              "      <td>0.871645</td>\n",
              "      <td>0.193806</td>\n",
              "      <td>0.145136</td>\n",
              "      <td>0.282508</td>\n",
              "      <td>0.174794</td>\n",
              "      <td>1.443939</td>\n",
              "      <td>1.406907</td>\n",
              "      <td>1.479943</td>\n",
              "      <td>1.597055</td>\n",
              "      <td>1.406320</td>\n",
              "      <td>0.998092</td>\n",
              "      <td>0.067410</td>\n",
              "      <td>5.164514</td>\n",
              "      <td>6.817686</td>\n",
              "      <td>3.352318</td>\n",
              "      <td>4.105281</td>\n",
              "      <td>6.501312</td>\n",
              "      <td>3.647331</td>\n",
              "      <td>1.671335e+03</td>\n",
              "      <td>...</td>\n",
              "      <td>0.300558</td>\n",
              "      <td>0.202818</td>\n",
              "      <td>0.728402</td>\n",
              "      <td>0.482389</td>\n",
              "      <td>0.265679</td>\n",
              "      <td>0.180462</td>\n",
              "      <td>0.112905</td>\n",
              "      <td>0.095441</td>\n",
              "      <td>0.261912</td>\n",
              "      <td>0.205117</td>\n",
              "      <td>1.026612</td>\n",
              "      <td>0.834018</td>\n",
              "      <td>1.069073</td>\n",
              "      <td>0.913120</td>\n",
              "      <td>0.022014</td>\n",
              "      <td>0.030183</td>\n",
              "      <td>0.035026</td>\n",
              "      <td>0.024557</td>\n",
              "      <td>1.059681</td>\n",
              "      <td>0.847960</td>\n",
              "      <td>1.033607</td>\n",
              "      <td>0.834899</td>\n",
              "      <td>0.283436</td>\n",
              "      <td>0.222092</td>\n",
              "      <td>0.037325</td>\n",
              "      <td>0.024215</td>\n",
              "      <td>0.205851</td>\n",
              "      <td>0.164955</td>\n",
              "      <td>0.062567</td>\n",
              "      <td>0.046913</td>\n",
              "      <td>0.634674</td>\n",
              "      <td>0.558262</td>\n",
              "      <td>0.670238</td>\n",
              "      <td>0.589864</td>\n",
              "      <td>49.688474</td>\n",
              "      <td>49.131366</td>\n",
              "      <td>31.288614</td>\n",
              "      <td>17.008341</td>\n",
              "      <td>16.527238</td>\n",
              "      <td>9.726936</td>\n",
              "    </tr>\n",
              "    <tr>\n",
              "      <th>std</th>\n",
              "      <td>8.090349e+05</td>\n",
              "      <td>6.659282e+05</td>\n",
              "      <td>6.434903e+05</td>\n",
              "      <td>6.422364e+05</td>\n",
              "      <td>6.588844e+05</td>\n",
              "      <td>6.710696e+05</td>\n",
              "      <td>3.642904e+05</td>\n",
              "      <td>3.831866e+05</td>\n",
              "      <td>4.169885e+05</td>\n",
              "      <td>4.400329e+05</td>\n",
              "      <td>1.720178</td>\n",
              "      <td>1.947375</td>\n",
              "      <td>1.964154</td>\n",
              "      <td>1.625364</td>\n",
              "      <td>0.167346</td>\n",
              "      <td>8.860999</td>\n",
              "      <td>126.587502</td>\n",
              "      <td>40.250953</td>\n",
              "      <td>1.403277</td>\n",
              "      <td>0.645695</td>\n",
              "      <td>1.041561</td>\n",
              "      <td>0.526873</td>\n",
              "      <td>0.301741</td>\n",
              "      <td>0.300553</td>\n",
              "      <td>0.559084</td>\n",
              "      <td>0.773851</td>\n",
              "      <td>0.687880</td>\n",
              "      <td>0.691748</td>\n",
              "      <td>0.771422</td>\n",
              "      <td>1.463513</td>\n",
              "      <td>0.853288</td>\n",
              "      <td>0.156856</td>\n",
              "      <td>0.254994</td>\n",
              "      <td>0.814889</td>\n",
              "      <td>10.377661</td>\n",
              "      <td>5.582310</td>\n",
              "      <td>1.750754</td>\n",
              "      <td>18.400604</td>\n",
              "      <td>11.778357</td>\n",
              "      <td>1.211338e+05</td>\n",
              "      <td>...</td>\n",
              "      <td>0.697314</td>\n",
              "      <td>0.530795</td>\n",
              "      <td>0.895883</td>\n",
              "      <td>0.707925</td>\n",
              "      <td>0.670151</td>\n",
              "      <td>0.509163</td>\n",
              "      <td>0.370201</td>\n",
              "      <td>0.328125</td>\n",
              "      <td>0.620481</td>\n",
              "      <td>0.512595</td>\n",
              "      <td>0.972382</td>\n",
              "      <td>0.864699</td>\n",
              "      <td>0.973261</td>\n",
              "      <td>0.881061</td>\n",
              "      <td>0.158896</td>\n",
              "      <td>0.179468</td>\n",
              "      <td>0.236666</td>\n",
              "      <td>0.185539</td>\n",
              "      <td>0.969603</td>\n",
              "      <td>0.858386</td>\n",
              "      <td>0.972442</td>\n",
              "      <td>0.863339</td>\n",
              "      <td>0.643854</td>\n",
              "      <td>0.533121</td>\n",
              "      <td>0.244755</td>\n",
              "      <td>0.186766</td>\n",
              "      <td>0.559453</td>\n",
              "      <td>0.466990</td>\n",
              "      <td>0.271160</td>\n",
              "      <td>0.227721</td>\n",
              "      <td>0.853880</td>\n",
              "      <td>0.784091</td>\n",
              "      <td>0.867530</td>\n",
              "      <td>0.796850</td>\n",
              "      <td>62.765442</td>\n",
              "      <td>61.032971</td>\n",
              "      <td>38.698616</td>\n",
              "      <td>29.464562</td>\n",
              "      <td>29.155274</td>\n",
              "      <td>17.616897</td>\n",
              "    </tr>\n",
              "    <tr>\n",
              "      <th>min</th>\n",
              "      <td>-6.766640e+07</td>\n",
              "      <td>-6.416449e+07</td>\n",
              "      <td>-2.951962e+07</td>\n",
              "      <td>-5.160258e+07</td>\n",
              "      <td>-6.282747e+07</td>\n",
              "      <td>-5.448213e+07</td>\n",
              "      <td>0.000000e+00</td>\n",
              "      <td>0.000000e+00</td>\n",
              "      <td>0.000000e+00</td>\n",
              "      <td>0.000000e+00</td>\n",
              "      <td>-2.336483</td>\n",
              "      <td>-1.791757</td>\n",
              "      <td>-1.529394</td>\n",
              "      <td>-1.416754</td>\n",
              "      <td>0.003132</td>\n",
              "      <td>-85.745494</td>\n",
              "      <td>-2007.804810</td>\n",
              "      <td>-1102.110337</td>\n",
              "      <td>0.000705</td>\n",
              "      <td>0.000000</td>\n",
              "      <td>0.003484</td>\n",
              "      <td>0.000000</td>\n",
              "      <td>-1.220456</td>\n",
              "      <td>-1.220448</td>\n",
              "      <td>-1.414214</td>\n",
              "      <td>-1.414214</td>\n",
              "      <td>0.000000</td>\n",
              "      <td>1.000000</td>\n",
              "      <td>1.000000</td>\n",
              "      <td>1.000000</td>\n",
              "      <td>1.000000</td>\n",
              "      <td>0.000000</td>\n",
              "      <td>0.000000</td>\n",
              "      <td>4.000000</td>\n",
              "      <td>0.000000</td>\n",
              "      <td>0.000000</td>\n",
              "      <td>0.000000</td>\n",
              "      <td>0.000000</td>\n",
              "      <td>0.000000</td>\n",
              "      <td>-6.511620e+06</td>\n",
              "      <td>...</td>\n",
              "      <td>0.000000</td>\n",
              "      <td>0.000000</td>\n",
              "      <td>0.000000</td>\n",
              "      <td>0.000000</td>\n",
              "      <td>0.000000</td>\n",
              "      <td>0.000000</td>\n",
              "      <td>0.000000</td>\n",
              "      <td>0.000000</td>\n",
              "      <td>0.000000</td>\n",
              "      <td>0.000000</td>\n",
              "      <td>0.000000</td>\n",
              "      <td>0.000000</td>\n",
              "      <td>0.000000</td>\n",
              "      <td>0.000000</td>\n",
              "      <td>0.000000</td>\n",
              "      <td>0.000000</td>\n",
              "      <td>0.000000</td>\n",
              "      <td>0.000000</td>\n",
              "      <td>0.000000</td>\n",
              "      <td>0.000000</td>\n",
              "      <td>0.000000</td>\n",
              "      <td>0.000000</td>\n",
              "      <td>0.000000</td>\n",
              "      <td>0.000000</td>\n",
              "      <td>0.000000</td>\n",
              "      <td>0.000000</td>\n",
              "      <td>0.000000</td>\n",
              "      <td>0.000000</td>\n",
              "      <td>0.000000</td>\n",
              "      <td>0.000000</td>\n",
              "      <td>0.000000</td>\n",
              "      <td>0.000000</td>\n",
              "      <td>0.000000</td>\n",
              "      <td>0.000000</td>\n",
              "      <td>0.000000</td>\n",
              "      <td>0.000000</td>\n",
              "      <td>0.000000</td>\n",
              "      <td>1.000000</td>\n",
              "      <td>1.000000</td>\n",
              "      <td>0.000000</td>\n",
              "    </tr>\n",
              "    <tr>\n",
              "      <th>25%</th>\n",
              "      <td>3.037609e+03</td>\n",
              "      <td>2.255115e+03</td>\n",
              "      <td>2.081114e+03</td>\n",
              "      <td>2.788630e+03</td>\n",
              "      <td>3.028607e+03</td>\n",
              "      <td>3.903768e+03</td>\n",
              "      <td>1.966539e+03</td>\n",
              "      <td>1.908582e+03</td>\n",
              "      <td>3.270135e+03</td>\n",
              "      <td>2.960897e+03</td>\n",
              "      <td>8.295194</td>\n",
              "      <td>8.390772</td>\n",
              "      <td>8.655064</td>\n",
              "      <td>8.220075</td>\n",
              "      <td>1.000000</td>\n",
              "      <td>0.763990</td>\n",
              "      <td>4.216799</td>\n",
              "      <td>1.368659</td>\n",
              "      <td>0.633476</td>\n",
              "      <td>0.681607</td>\n",
              "      <td>0.484265</td>\n",
              "      <td>0.485628</td>\n",
              "      <td>0.081714</td>\n",
              "      <td>0.000125</td>\n",
              "      <td>0.157900</td>\n",
              "      <td>-0.630508</td>\n",
              "      <td>1.000000</td>\n",
              "      <td>1.000000</td>\n",
              "      <td>1.000000</td>\n",
              "      <td>1.000000</td>\n",
              "      <td>1.000000</td>\n",
              "      <td>1.000000</td>\n",
              "      <td>0.000000</td>\n",
              "      <td>4.000000</td>\n",
              "      <td>1.000000</td>\n",
              "      <td>1.000000</td>\n",
              "      <td>3.000000</td>\n",
              "      <td>1.000000</td>\n",
              "      <td>1.750000</td>\n",
              "      <td>1.195979e+01</td>\n",
              "      <td>...</td>\n",
              "      <td>0.000000</td>\n",
              "      <td>0.000000</td>\n",
              "      <td>0.000000</td>\n",
              "      <td>0.000000</td>\n",
              "      <td>0.000000</td>\n",
              "      <td>0.000000</td>\n",
              "      <td>0.000000</td>\n",
              "      <td>0.000000</td>\n",
              "      <td>0.000000</td>\n",
              "      <td>0.000000</td>\n",
              "      <td>0.000000</td>\n",
              "      <td>0.000000</td>\n",
              "      <td>0.000000</td>\n",
              "      <td>0.000000</td>\n",
              "      <td>0.000000</td>\n",
              "      <td>0.000000</td>\n",
              "      <td>0.000000</td>\n",
              "      <td>0.000000</td>\n",
              "      <td>0.000000</td>\n",
              "      <td>0.000000</td>\n",
              "      <td>0.000000</td>\n",
              "      <td>0.000000</td>\n",
              "      <td>0.000000</td>\n",
              "      <td>0.000000</td>\n",
              "      <td>0.000000</td>\n",
              "      <td>0.000000</td>\n",
              "      <td>0.000000</td>\n",
              "      <td>0.000000</td>\n",
              "      <td>0.000000</td>\n",
              "      <td>0.000000</td>\n",
              "      <td>0.000000</td>\n",
              "      <td>0.000000</td>\n",
              "      <td>0.000000</td>\n",
              "      <td>0.000000</td>\n",
              "      <td>16.000000</td>\n",
              "      <td>16.000000</td>\n",
              "      <td>10.000000</td>\n",
              "      <td>8.000000</td>\n",
              "      <td>8.000000</td>\n",
              "      <td>4.000000</td>\n",
              "    </tr>\n",
              "    <tr>\n",
              "      <th>50%</th>\n",
              "      <td>1.076447e+04</td>\n",
              "      <td>7.793441e+03</td>\n",
              "      <td>7.511782e+03</td>\n",
              "      <td>1.022429e+04</td>\n",
              "      <td>1.075722e+04</td>\n",
              "      <td>1.369641e+04</td>\n",
              "      <td>6.529336e+03</td>\n",
              "      <td>6.173574e+03</td>\n",
              "      <td>8.926603e+03</td>\n",
              "      <td>8.363056e+03</td>\n",
              "      <td>9.428800</td>\n",
              "      <td>9.399851</td>\n",
              "      <td>9.636638</td>\n",
              "      <td>9.373892</td>\n",
              "      <td>1.100000</td>\n",
              "      <td>1.368897</td>\n",
              "      <td>11.506292</td>\n",
              "      <td>3.489165</td>\n",
              "      <td>0.985693</td>\n",
              "      <td>1.089861</td>\n",
              "      <td>0.686719</td>\n",
              "      <td>0.767021</td>\n",
              "      <td>0.225834</td>\n",
              "      <td>0.182227</td>\n",
              "      <td>0.304736</td>\n",
              "      <td>0.540885</td>\n",
              "      <td>1.000000</td>\n",
              "      <td>1.000000</td>\n",
              "      <td>1.000000</td>\n",
              "      <td>1.000000</td>\n",
              "      <td>1.000000</td>\n",
              "      <td>1.000000</td>\n",
              "      <td>0.000000</td>\n",
              "      <td>5.000000</td>\n",
              "      <td>4.000000</td>\n",
              "      <td>3.000000</td>\n",
              "      <td>4.000000</td>\n",
              "      <td>3.000000</td>\n",
              "      <td>3.000000</td>\n",
              "      <td>4.579500e+01</td>\n",
              "      <td>...</td>\n",
              "      <td>0.000000</td>\n",
              "      <td>0.000000</td>\n",
              "      <td>0.000000</td>\n",
              "      <td>0.000000</td>\n",
              "      <td>0.000000</td>\n",
              "      <td>0.000000</td>\n",
              "      <td>0.000000</td>\n",
              "      <td>0.000000</td>\n",
              "      <td>0.000000</td>\n",
              "      <td>0.000000</td>\n",
              "      <td>1.000000</td>\n",
              "      <td>1.000000</td>\n",
              "      <td>1.000000</td>\n",
              "      <td>1.000000</td>\n",
              "      <td>0.000000</td>\n",
              "      <td>0.000000</td>\n",
              "      <td>0.000000</td>\n",
              "      <td>0.000000</td>\n",
              "      <td>1.000000</td>\n",
              "      <td>1.000000</td>\n",
              "      <td>1.000000</td>\n",
              "      <td>1.000000</td>\n",
              "      <td>0.000000</td>\n",
              "      <td>0.000000</td>\n",
              "      <td>0.000000</td>\n",
              "      <td>0.000000</td>\n",
              "      <td>0.000000</td>\n",
              "      <td>0.000000</td>\n",
              "      <td>0.000000</td>\n",
              "      <td>0.000000</td>\n",
              "      <td>0.000000</td>\n",
              "      <td>0.000000</td>\n",
              "      <td>0.000000</td>\n",
              "      <td>0.000000</td>\n",
              "      <td>35.000000</td>\n",
              "      <td>35.000000</td>\n",
              "      <td>22.000000</td>\n",
              "      <td>12.000000</td>\n",
              "      <td>12.000000</td>\n",
              "      <td>7.000000</td>\n",
              "    </tr>\n",
              "    <tr>\n",
              "      <th>75%</th>\n",
              "      <td>3.444611e+04</td>\n",
              "      <td>2.380610e+04</td>\n",
              "      <td>2.329657e+04</td>\n",
              "      <td>3.127464e+04</td>\n",
              "      <td>2.776564e+04</td>\n",
              "      <td>3.611465e+04</td>\n",
              "      <td>2.015090e+04</td>\n",
              "      <td>1.929168e+04</td>\n",
              "      <td>2.482480e+04</td>\n",
              "      <td>2.306036e+04</td>\n",
              "      <td>10.543433</td>\n",
              "      <td>10.309087</td>\n",
              "      <td>10.566079</td>\n",
              "      <td>10.432754</td>\n",
              "      <td>1.166667</td>\n",
              "      <td>2.618768</td>\n",
              "      <td>29.761092</td>\n",
              "      <td>7.895639</td>\n",
              "      <td>1.309826</td>\n",
              "      <td>1.509059</td>\n",
              "      <td>0.923634</td>\n",
              "      <td>1.173023</td>\n",
              "      <td>0.348020</td>\n",
              "      <td>0.288966</td>\n",
              "      <td>0.604048</td>\n",
              "      <td>0.752146</td>\n",
              "      <td>2.000000</td>\n",
              "      <td>2.000000</td>\n",
              "      <td>2.000000</td>\n",
              "      <td>2.000000</td>\n",
              "      <td>2.000000</td>\n",
              "      <td>1.000000</td>\n",
              "      <td>0.000000</td>\n",
              "      <td>6.000000</td>\n",
              "      <td>6.000000</td>\n",
              "      <td>4.500000</td>\n",
              "      <td>5.000000</td>\n",
              "      <td>5.000000</td>\n",
              "      <td>4.000000</td>\n",
              "      <td>1.044192e+02</td>\n",
              "      <td>...</td>\n",
              "      <td>0.000000</td>\n",
              "      <td>0.000000</td>\n",
              "      <td>1.000000</td>\n",
              "      <td>1.000000</td>\n",
              "      <td>0.000000</td>\n",
              "      <td>0.000000</td>\n",
              "      <td>0.000000</td>\n",
              "      <td>0.000000</td>\n",
              "      <td>0.000000</td>\n",
              "      <td>0.000000</td>\n",
              "      <td>2.000000</td>\n",
              "      <td>1.000000</td>\n",
              "      <td>2.000000</td>\n",
              "      <td>2.000000</td>\n",
              "      <td>0.000000</td>\n",
              "      <td>0.000000</td>\n",
              "      <td>0.000000</td>\n",
              "      <td>0.000000</td>\n",
              "      <td>2.000000</td>\n",
              "      <td>1.000000</td>\n",
              "      <td>2.000000</td>\n",
              "      <td>1.000000</td>\n",
              "      <td>0.000000</td>\n",
              "      <td>0.000000</td>\n",
              "      <td>0.000000</td>\n",
              "      <td>0.000000</td>\n",
              "      <td>0.000000</td>\n",
              "      <td>0.000000</td>\n",
              "      <td>0.000000</td>\n",
              "      <td>0.000000</td>\n",
              "      <td>1.000000</td>\n",
              "      <td>1.000000</td>\n",
              "      <td>1.000000</td>\n",
              "      <td>1.000000</td>\n",
              "      <td>65.000000</td>\n",
              "      <td>64.000000</td>\n",
              "      <td>42.000000</td>\n",
              "      <td>20.000000</td>\n",
              "      <td>19.000000</td>\n",
              "      <td>12.000000</td>\n",
              "    </tr>\n",
              "    <tr>\n",
              "      <th>max</th>\n",
              "      <td>3.861868e+07</td>\n",
              "      <td>3.024852e+07</td>\n",
              "      <td>6.325956e+07</td>\n",
              "      <td>2.766654e+07</td>\n",
              "      <td>2.193012e+07</td>\n",
              "      <td>2.229041e+07</td>\n",
              "      <td>3.463760e+07</td>\n",
              "      <td>3.277868e+07</td>\n",
              "      <td>4.255362e+07</td>\n",
              "      <td>3.969719e+07</td>\n",
              "      <td>17.469247</td>\n",
              "      <td>16.903372</td>\n",
              "      <td>16.919667</td>\n",
              "      <td>17.135734</td>\n",
              "      <td>1.333333</td>\n",
              "      <td>513.786191</td>\n",
              "      <td>3953.930100</td>\n",
              "      <td>1486.540047</td>\n",
              "      <td>181.783798</td>\n",
              "      <td>7.433887</td>\n",
              "      <td>134.254541</td>\n",
              "      <td>9.778615</td>\n",
              "      <td>1.220480</td>\n",
              "      <td>1.220476</td>\n",
              "      <td>1.414214</td>\n",
              "      <td>1.414214</td>\n",
              "      <td>6.000000</td>\n",
              "      <td>6.000000</td>\n",
              "      <td>10.000000</td>\n",
              "      <td>90.000000</td>\n",
              "      <td>55.000000</td>\n",
              "      <td>3.000000</td>\n",
              "      <td>5.000000</td>\n",
              "      <td>6.000000</td>\n",
              "      <td>156.000000</td>\n",
              "      <td>102.000000</td>\n",
              "      <td>7.000000</td>\n",
              "      <td>163.000000</td>\n",
              "      <td>222.000000</td>\n",
              "      <td>1.273716e+07</td>\n",
              "      <td>...</td>\n",
              "      <td>5.000000</td>\n",
              "      <td>4.000000</td>\n",
              "      <td>4.000000</td>\n",
              "      <td>4.000000</td>\n",
              "      <td>5.000000</td>\n",
              "      <td>4.000000</td>\n",
              "      <td>3.000000</td>\n",
              "      <td>3.000000</td>\n",
              "      <td>4.000000</td>\n",
              "      <td>4.000000</td>\n",
              "      <td>5.000000</td>\n",
              "      <td>4.000000</td>\n",
              "      <td>5.000000</td>\n",
              "      <td>4.000000</td>\n",
              "      <td>2.000000</td>\n",
              "      <td>3.000000</td>\n",
              "      <td>4.000000</td>\n",
              "      <td>3.000000</td>\n",
              "      <td>5.000000</td>\n",
              "      <td>4.000000</td>\n",
              "      <td>5.000000</td>\n",
              "      <td>4.000000</td>\n",
              "      <td>4.000000</td>\n",
              "      <td>4.000000</td>\n",
              "      <td>4.000000</td>\n",
              "      <td>3.000000</td>\n",
              "      <td>4.000000</td>\n",
              "      <td>4.000000</td>\n",
              "      <td>3.000000</td>\n",
              "      <td>3.000000</td>\n",
              "      <td>4.000000</td>\n",
              "      <td>4.000000</td>\n",
              "      <td>4.000000</td>\n",
              "      <td>4.000000</td>\n",
              "      <td>3598.000000</td>\n",
              "      <td>3597.000000</td>\n",
              "      <td>1946.000000</td>\n",
              "      <td>3104.000000</td>\n",
              "      <td>3104.000000</td>\n",
              "      <td>1745.000000</td>\n",
              "    </tr>\n",
              "  </tbody>\n",
              "</table>\n",
              "<p>8 rows × 2382 columns</p>\n",
              "</div>"
            ],
            "text/plain": [
              "               Col3          Col4  ...       Col2396       Col2397\n",
              "count  2.044200e+04  2.044200e+04  ...  19183.000000  19164.000000\n",
              "mean   3.749822e+04  2.360107e+04  ...     16.527238      9.726936\n",
              "std    8.090349e+05  6.659282e+05  ...     29.155274     17.616897\n",
              "min   -6.766640e+07 -6.416449e+07  ...      1.000000      0.000000\n",
              "25%    3.037609e+03  2.255115e+03  ...      8.000000      4.000000\n",
              "50%    1.076447e+04  7.793441e+03  ...     12.000000      7.000000\n",
              "75%    3.444611e+04  2.380610e+04  ...     19.000000     12.000000\n",
              "max    3.861868e+07  3.024852e+07  ...   3104.000000   1745.000000\n",
              "\n",
              "[8 rows x 2382 columns]"
            ]
          },
          "metadata": {
            "tags": []
          },
          "execution_count": 125
        }
      ]
    },
    {
      "cell_type": "code",
      "metadata": {
        "id": "qot6jTBFp-Uw",
        "colab_type": "code",
        "colab": {
          "base_uri": "https://localhost:8080/",
          "height": 381
        },
        "outputId": "40bd6b94-c31a-4cf0-ef24-5a101e861991"
      },
      "source": [
        "print(test_df.shape)\n",
        "\n",
        "test_X = model.fit_transform(test_df.iloc[:,1:])\n",
        "model.get_params()"
      ],
      "execution_count": 120,
      "outputs": [
        {
          "output_type": "stream",
          "text": [
            "(20442, 2394)\n"
          ],
          "name": "stdout"
        },
        {
          "output_type": "error",
          "ename": "ValueError",
          "evalue": "ignored",
          "traceback": [
            "\u001b[0;31m---------------------------------------------------------------------------\u001b[0m",
            "\u001b[0;31mValueError\u001b[0m                                Traceback (most recent call last)",
            "\u001b[0;32m<ipython-input-120-3e33811c3b65>\u001b[0m in \u001b[0;36m<module>\u001b[0;34m()\u001b[0m\n\u001b[1;32m      1\u001b[0m \u001b[0mprint\u001b[0m\u001b[0;34m(\u001b[0m\u001b[0mtest_df\u001b[0m\u001b[0;34m.\u001b[0m\u001b[0mshape\u001b[0m\u001b[0;34m)\u001b[0m\u001b[0;34m\u001b[0m\u001b[0;34m\u001b[0m\u001b[0m\n\u001b[1;32m      2\u001b[0m \u001b[0mtest_id\u001b[0m \u001b[0;34m=\u001b[0m \u001b[0mtest_df\u001b[0m\u001b[0;34m.\u001b[0m\u001b[0miloc\u001b[0m\u001b[0;34m[\u001b[0m\u001b[0;34m:\u001b[0m\u001b[0;34m,\u001b[0m\u001b[0;36m0\u001b[0m\u001b[0;34m]\u001b[0m\u001b[0;34m\u001b[0m\u001b[0;34m\u001b[0m\u001b[0m\n\u001b[0;32m----> 3\u001b[0;31m \u001b[0mtest_X\u001b[0m \u001b[0;34m=\u001b[0m \u001b[0mmodel\u001b[0m\u001b[0;34m.\u001b[0m\u001b[0mfit_transform\u001b[0m\u001b[0;34m(\u001b[0m\u001b[0mtest_df\u001b[0m\u001b[0;34m.\u001b[0m\u001b[0miloc\u001b[0m\u001b[0;34m[\u001b[0m\u001b[0;34m:\u001b[0m\u001b[0;34m,\u001b[0m\u001b[0;36m1\u001b[0m\u001b[0;34m:\u001b[0m\u001b[0;34m]\u001b[0m\u001b[0;34m)\u001b[0m\u001b[0;34m\u001b[0m\u001b[0;34m\u001b[0m\u001b[0m\n\u001b[0m\u001b[1;32m      4\u001b[0m \u001b[0mmodel\u001b[0m\u001b[0;34m.\u001b[0m\u001b[0mget_params\u001b[0m\u001b[0;34m(\u001b[0m\u001b[0;34m)\u001b[0m\u001b[0;34m\u001b[0m\u001b[0;34m\u001b[0m\u001b[0m\n",
            "\u001b[0;32m/usr/local/lib/python3.6/dist-packages/sklearn/manifold/t_sne.py\u001b[0m in \u001b[0;36mfit_transform\u001b[0;34m(self, X, y)\u001b[0m\n\u001b[1;32m    893\u001b[0m             \u001b[0mEmbedding\u001b[0m \u001b[0mof\u001b[0m \u001b[0mthe\u001b[0m \u001b[0mtraining\u001b[0m \u001b[0mdata\u001b[0m \u001b[0;32min\u001b[0m \u001b[0mlow\u001b[0m\u001b[0;34m-\u001b[0m\u001b[0mdimensional\u001b[0m \u001b[0mspace\u001b[0m\u001b[0;34m.\u001b[0m\u001b[0;34m\u001b[0m\u001b[0;34m\u001b[0m\u001b[0m\n\u001b[1;32m    894\u001b[0m         \"\"\"\n\u001b[0;32m--> 895\u001b[0;31m         \u001b[0membedding\u001b[0m \u001b[0;34m=\u001b[0m \u001b[0mself\u001b[0m\u001b[0;34m.\u001b[0m\u001b[0m_fit\u001b[0m\u001b[0;34m(\u001b[0m\u001b[0mX\u001b[0m\u001b[0;34m)\u001b[0m\u001b[0;34m\u001b[0m\u001b[0;34m\u001b[0m\u001b[0m\n\u001b[0m\u001b[1;32m    896\u001b[0m         \u001b[0mself\u001b[0m\u001b[0;34m.\u001b[0m\u001b[0membedding_\u001b[0m \u001b[0;34m=\u001b[0m \u001b[0membedding\u001b[0m\u001b[0;34m\u001b[0m\u001b[0;34m\u001b[0m\u001b[0m\n\u001b[1;32m    897\u001b[0m         \u001b[0;32mreturn\u001b[0m \u001b[0mself\u001b[0m\u001b[0;34m.\u001b[0m\u001b[0membedding_\u001b[0m\u001b[0;34m\u001b[0m\u001b[0;34m\u001b[0m\u001b[0m\n",
            "\u001b[0;32m/usr/local/lib/python3.6/dist-packages/sklearn/manifold/t_sne.py\u001b[0m in \u001b[0;36m_fit\u001b[0;34m(self, X, skip_num_points)\u001b[0m\n\u001b[1;32m    698\u001b[0m         \u001b[0;32mif\u001b[0m \u001b[0mself\u001b[0m\u001b[0;34m.\u001b[0m\u001b[0mmethod\u001b[0m \u001b[0;34m==\u001b[0m \u001b[0;34m'barnes_hut'\u001b[0m\u001b[0;34m:\u001b[0m\u001b[0;34m\u001b[0m\u001b[0;34m\u001b[0m\u001b[0m\n\u001b[1;32m    699\u001b[0m             X = check_array(X, ensure_min_samples=2,\n\u001b[0;32m--> 700\u001b[0;31m                             dtype=[np.float32, np.float64])\n\u001b[0m\u001b[1;32m    701\u001b[0m         \u001b[0;32melse\u001b[0m\u001b[0;34m:\u001b[0m\u001b[0;34m\u001b[0m\u001b[0;34m\u001b[0m\u001b[0m\n\u001b[1;32m    702\u001b[0m             X = check_array(X, accept_sparse=['csr', 'csc', 'coo'],\n",
            "\u001b[0;32m/usr/local/lib/python3.6/dist-packages/sklearn/utils/validation.py\u001b[0m in \u001b[0;36mcheck_array\u001b[0;34m(array, accept_sparse, accept_large_sparse, dtype, order, copy, force_all_finite, ensure_2d, allow_nd, ensure_min_samples, ensure_min_features, warn_on_dtype, estimator)\u001b[0m\n\u001b[1;32m    494\u001b[0m             \u001b[0;32mtry\u001b[0m\u001b[0;34m:\u001b[0m\u001b[0;34m\u001b[0m\u001b[0;34m\u001b[0m\u001b[0m\n\u001b[1;32m    495\u001b[0m                 \u001b[0mwarnings\u001b[0m\u001b[0;34m.\u001b[0m\u001b[0msimplefilter\u001b[0m\u001b[0;34m(\u001b[0m\u001b[0;34m'error'\u001b[0m\u001b[0;34m,\u001b[0m \u001b[0mComplexWarning\u001b[0m\u001b[0;34m)\u001b[0m\u001b[0;34m\u001b[0m\u001b[0;34m\u001b[0m\u001b[0m\n\u001b[0;32m--> 496\u001b[0;31m                 \u001b[0marray\u001b[0m \u001b[0;34m=\u001b[0m \u001b[0mnp\u001b[0m\u001b[0;34m.\u001b[0m\u001b[0masarray\u001b[0m\u001b[0;34m(\u001b[0m\u001b[0marray\u001b[0m\u001b[0;34m,\u001b[0m \u001b[0mdtype\u001b[0m\u001b[0;34m=\u001b[0m\u001b[0mdtype\u001b[0m\u001b[0;34m,\u001b[0m \u001b[0morder\u001b[0m\u001b[0;34m=\u001b[0m\u001b[0morder\u001b[0m\u001b[0;34m)\u001b[0m\u001b[0;34m\u001b[0m\u001b[0;34m\u001b[0m\u001b[0m\n\u001b[0m\u001b[1;32m    497\u001b[0m             \u001b[0;32mexcept\u001b[0m \u001b[0mComplexWarning\u001b[0m\u001b[0;34m:\u001b[0m\u001b[0;34m\u001b[0m\u001b[0;34m\u001b[0m\u001b[0m\n\u001b[1;32m    498\u001b[0m                 raise ValueError(\"Complex data not supported\\n\"\n",
            "\u001b[0;32m/usr/local/lib/python3.6/dist-packages/numpy/core/numeric.py\u001b[0m in \u001b[0;36masarray\u001b[0;34m(a, dtype, order)\u001b[0m\n\u001b[1;32m    536\u001b[0m \u001b[0;34m\u001b[0m\u001b[0m\n\u001b[1;32m    537\u001b[0m     \"\"\"\n\u001b[0;32m--> 538\u001b[0;31m     \u001b[0;32mreturn\u001b[0m \u001b[0marray\u001b[0m\u001b[0;34m(\u001b[0m\u001b[0ma\u001b[0m\u001b[0;34m,\u001b[0m \u001b[0mdtype\u001b[0m\u001b[0;34m,\u001b[0m \u001b[0mcopy\u001b[0m\u001b[0;34m=\u001b[0m\u001b[0;32mFalse\u001b[0m\u001b[0;34m,\u001b[0m \u001b[0morder\u001b[0m\u001b[0;34m=\u001b[0m\u001b[0morder\u001b[0m\u001b[0;34m)\u001b[0m\u001b[0;34m\u001b[0m\u001b[0;34m\u001b[0m\u001b[0m\n\u001b[0m\u001b[1;32m    539\u001b[0m \u001b[0;34m\u001b[0m\u001b[0m\n\u001b[1;32m    540\u001b[0m \u001b[0;34m\u001b[0m\u001b[0m\n",
            "\u001b[0;31mValueError\u001b[0m: could not convert string to float: '-'"
          ]
        }
      ]
    },
    {
      "cell_type": "code",
      "metadata": {
        "id": "HXcUjemA8a70",
        "colab_type": "code",
        "colab": {}
      },
      "source": [
        "# logistic baseline classification model\n",
        "from sklearn.linear_model import LogisticRegression\n",
        "\n",
        "clf = LogisticRegression(random_state=0, solver='lbfgs',multi_class='multinomial').fit(X, y)\n"
      ],
      "execution_count": 0,
      "outputs": []
    },
    {
      "cell_type": "markdown",
      "metadata": {
        "id": "4zudKXqhGem7",
        "colab_type": "text"
      },
      "source": [
        "## Evaluation"
      ]
    },
    {
      "cell_type": "code",
      "metadata": {
        "id": "klPQo47U8a74",
        "colab_type": "code",
        "colab": {}
      },
      "source": [
        "# Evaluate F1-score"
      ],
      "execution_count": 0,
      "outputs": []
    },
    {
      "cell_type": "markdown",
      "metadata": {
        "id": "aJ9WTqLyGiE3",
        "colab_type": "text"
      },
      "source": [
        "## Can try"
      ]
    },
    {
      "cell_type": "code",
      "metadata": {
        "id": "UnCkBtmO8a77",
        "colab_type": "code",
        "colab": {}
      },
      "source": [
        "# Replacing numeric values with median and cat with mode\n",
        "# Shuffle and fill values for second time\n",
        "# Deciding the number of components for tsne\n",
        "# Feature selection if ML\n",
        "# grid search\n",
        "# Random search\n",
        "# neural network\n",
        "# XGBoost \n",
        "# lightgbm\n",
        "# 0   and 0.0 were different"
      ],
      "execution_count": 0,
      "outputs": []
    },
    {
      "cell_type": "code",
      "metadata": {
        "id": "KRUly1B38a7-",
        "colab_type": "code",
        "colab": {}
      },
      "source": [
        ""
      ],
      "execution_count": 0,
      "outputs": []
    }
  ]
}