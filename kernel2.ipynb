{
  "nbformat": 4,
  "nbformat_minor": 0,
  "metadata": {
    "kernelspec": {
      "display_name": "Python 3",
      "language": "python",
      "name": "python3"
    },
    "language_info": {
      "codemirror_mode": {
        "name": "ipython",
        "version": 3
      },
      "file_extension": ".py",
      "mimetype": "text/x-python",
      "name": "python",
      "nbconvert_exporter": "python",
      "pygments_lexer": "ipython3",
      "version": "3.7.0"
    },
    "colab": {
      "name": "kernel2.ipynb",
      "provenance": []
    }
  },
  "cells": [
    {
      "cell_type": "markdown",
      "metadata": {
        "colab_type": "text",
        "id": "zk_5NTTwqnof"
      },
      "source": [
        "## Importing Libraries"
      ]
    },
    {
      "cell_type": "code",
      "metadata": {
        "colab_type": "code",
        "id": "QzSOF98p8739",
        "colab": {}
      },
      "source": [
        "import pandas as pd\n",
        "import numpy as np\n",
        "import matplotlib.pyplot as plt\n",
        "import seaborn as sns\n",
        "from sklearn.manifold import TSNE\n",
        "import warnings\n",
        "from sklearn.decomposition import PCA\n",
        "from sklearn.feature_selection import RFE\n",
        "from sklearn.feature_selection import RFECV\n",
        "from sklearn.feature_selection import SelectKBest, chi2\n",
        "from sklearn.linear_model import LogisticRegression\n",
        "from sklearn.metrics import accuracy_score, f1_score,confusion_matrix\n",
        "from sklearn.model_selection import GridSearchCV,train_test_split\n",
        "from xgboost import XGBClassifier\n",
        "import lightgbm\n",
        "from imblearn.over_sampling import SMOTE\n",
        "\n",
        "warnings.filterwarnings('ignore')"
      ],
      "execution_count": 0,
      "outputs": []
    },
    {
      "cell_type": "code",
      "metadata": {
        "colab_type": "code",
        "id": "g1_sgPng8sYD",
        "outputId": "6b145c46-3e59-4c66-e210-2c5a2028c2e2",
        "colab": {
          "base_uri": "https://localhost:8080/",
          "height": 126
        }
      },
      "source": [
        "from google.colab import drive\n",
        "drive.mount('/content/drive')"
      ],
      "execution_count": 2,
      "outputs": [
        {
          "output_type": "stream",
          "text": [
            "Go to this URL in a browser: https://accounts.google.com/o/oauth2/auth?client_id=947318989803-6bn6qk8qdgf4n4g3pfee6491hc0brc4i.apps.googleusercontent.com&redirect_uri=urn%3Aietf%3Awg%3Aoauth%3A2.0%3Aoob&scope=email%20https%3A%2F%2Fwww.googleapis.com%2Fauth%2Fdocs.test%20https%3A%2F%2Fwww.googleapis.com%2Fauth%2Fdrive%20https%3A%2F%2Fwww.googleapis.com%2Fauth%2Fdrive.photos.readonly%20https%3A%2F%2Fwww.googleapis.com%2Fauth%2Fpeopleapi.readonly&response_type=code\n",
            "\n",
            "Enter your authorization code:\n",
            "··········\n",
            "Mounted at /content/drive\n"
          ],
          "name": "stdout"
        }
      ]
    },
    {
      "cell_type": "markdown",
      "metadata": {
        "colab_type": "text",
        "id": "tWkuX82W9BR7"
      },
      "source": [
        "## Preprocessing"
      ]
    },
    {
      "cell_type": "code",
      "metadata": {
        "colab_type": "code",
        "id": "8XsOH6BMQ9bN",
        "colab": {}
      },
      "source": [
        "path = \"./drive/My Drive/data/\"\n",
        "train_path = path+\"Train.csv\"\n",
        "test_path = path+\"Test.csv\"\n",
        "\n",
        "train_df = pd.read_csv(train_path)\n",
        "test_df = pd.read_csv(test_path)\n",
        "train_df.head()"
      ],
      "execution_count": 0,
      "outputs": []
    },
    {
      "cell_type": "code",
      "metadata": {
        "colab_type": "code",
        "id": "HvBIkUHCmkrL",
        "colab": {}
      },
      "source": [
        "test_df.sample(5)"
      ],
      "execution_count": 0,
      "outputs": []
    },
    {
      "cell_type": "markdown",
      "metadata": {
        "colab_type": "text",
        "id": "w12Ge1b0_gZT"
      },
      "source": [
        "1st column is ID and Second columns is Target variable"
      ]
    },
    {
      "cell_type": "code",
      "metadata": {
        "colab_type": "code",
        "id": "g61XePpQwG27",
        "outputId": "c8588fcc-18a4-4193-c074-afb969efc6e3",
        "colab": {
          "base_uri": "https://localhost:8080/",
          "height": 35
        }
      },
      "source": [
        "train_df.shape, test_df.shape"
      ],
      "execution_count": 7,
      "outputs": [
        {
          "output_type": "execute_result",
          "data": {
            "text/plain": [
              "((17521, 2395), (20442, 2394))"
            ]
          },
          "metadata": {
            "tags": []
          },
          "execution_count": 7
        }
      ]
    },
    {
      "cell_type": "markdown",
      "metadata": {
        "id": "mi44jUk4wdLO",
        "colab_type": "text"
      },
      "source": [
        "## Preprocessing "
      ]
    },
    {
      "cell_type": "code",
      "metadata": {
        "id": "UJSVsAvcwwul",
        "colab_type": "code",
        "colab": {}
      },
      "source": [
        "# Check columns for Null values\n",
        "def null_cols(d,columns):\n",
        "  na = d[columns].isna().sum().sort_values(ascending=False)\n",
        "  return na[na > 0].index.to_list()"
      ],
      "execution_count": 0,
      "outputs": []
    },
    {
      "cell_type": "code",
      "metadata": {
        "id": "ZmuWzJQ22qLT",
        "colab_type": "code",
        "colab": {}
      },
      "source": [
        "# Replace all null values \n",
        "def replace_null(X,cols):\n",
        "  na_cols = null_cols(X,cols)\n",
        "  print('1.Null columns',len(na_cols))\n",
        "\n",
        "  if len(na_cols) > 0:\n",
        "    X[na_cols]= X[na_cols].fillna(method='ffill')\n",
        "    X[na_cols]= X[na_cols].fillna(method='bfill')\n",
        "    na_cols = null_cols(X,cols)\n",
        "    print('2.Null columns',len(na_cols))"
      ],
      "execution_count": 0,
      "outputs": []
    },
    {
      "cell_type": "markdown",
      "metadata": {
        "id": "VaDt7fR_oMSx",
        "colab_type": "text"
      },
      "source": [
        "## Feature Selection (X,Y)"
      ]
    },
    {
      "cell_type": "code",
      "metadata": {
        "id": "SaRKn5XCqiAv",
        "colab_type": "code",
        "colab": {}
      },
      "source": [
        "target = 'Col2'\n",
        "num_cols = train_df.select_dtypes(include=\"number\").columns\n",
        "cat_cols = list(set(train_df.columns) - set(num_cols))\n",
        "corr = train_df.corr()"
      ],
      "execution_count": 0,
      "outputs": []
    },
    {
      "cell_type": "code",
      "metadata": {
        "id": "FNKFpwPSoMSy",
        "colab_type": "code",
        "colab": {
          "base_uri": "https://localhost:8080/",
          "height": 948
        },
        "outputId": "c5e9dc6e-72d6-4914-98b6-828bb9dcb272"
      },
      "source": [
        "k= 50\n",
        "cols = corr.nlargest(k,target)[target].index\n",
        "print(cols)\n",
        "# cm = np.corrcoef(train_df[cols].values.T)\n",
        "cm = train_df.loc[:,cols].corr()\n",
        "f , ax = plt.subplots(figsize = (16,12))\n",
        "\n",
        "col_x = list(set(cols) - set([target]))\n",
        "X, Y = train_df.loc[:,col_x] ,train_df.loc[:,target]\n",
        "replace_null(X,col_x)\n",
        "\n",
        "sns.heatmap(cm, vmax=.8, linewidths=0.01,square=True,annot=False,cmap='viridis',\n",
        "            linecolor=\"white\",xticklabels = cols.values ,annot_kws = {'size':12},yticklabels = cols.values)"
      ],
      "execution_count": 262,
      "outputs": [
        {
          "output_type": "stream",
          "text": [
            "Index(['Col2', 'Col440', 'Col636', 'Col243', 'Col437', 'Col627', 'Col431',\n",
            "       'Col234', 'Col240', 'Col380', 'Col183', 'Col1502', 'Col1322', 'Col577',\n",
            "       'Col1412', 'Col2232', 'Col2052', 'Col1592', 'Col2142', 'Col2322',\n",
            "       'Col913', 'Col914', 'Col166', 'Col915', 'Col677', 'Col1364', 'Col877',\n",
            "       'Col1544', 'Col1454', 'Col1634', 'Col51', 'Col2094', 'Col633',\n",
            "       'Col2274', 'Col876', 'Col2184', 'Col135', 'Col2364', 'Col38', 'Col59',\n",
            "       'Col330', 'Col527', 'Col127', 'Col193', 'Col390', 'Col178', 'Col875',\n",
            "       'Col874', 'Col180', 'Col186'],\n",
            "      dtype='object')\n",
            "1.Null columns 23\n",
            "2.Null columns 0\n"
          ],
          "name": "stdout"
        },
        {
          "output_type": "execute_result",
          "data": {
            "text/plain": [
              "<matplotlib.axes._subplots.AxesSubplot at 0x7effa131d390>"
            ]
          },
          "metadata": {
            "tags": []
          },
          "execution_count": 262
        },
        {
          "output_type": "display_data",
          "data": {
            "image/png": "[encoded data removed]",
            "text/plain": [
              "<Figure size 1152x864 with 2 Axes>"
            ]
          },
          "metadata": {
            "tags": []
          }
        }
      ]
    },
    {
      "cell_type": "code",
      "metadata": {
        "id": "Mn8SV_q9pbTf",
        "colab_type": "code",
        "colab": {}
      },
      "source": [
        "def generate_accuracy_and_heatmap(model, x, y):\n",
        "    ac = accuracy_score(y,model.predict(x))\n",
        "    f_score = f1_score(y,model.predict(x))\n",
        "    print('Accuracy is: ', ac)\n",
        "    print('F1 score is: ', f_score)\n",
        "    print (\"\\n\")\n",
        "#     print (pd.crosstab(pd.Series(model.predict(x), name='Predicted'),\n",
        "#                        pd.Series(y.loc[:,target],name='Actual')))\n",
        "    pass"
      ],
      "execution_count": 0,
      "outputs": []
    },
    {
      "cell_type": "markdown",
      "metadata": {
        "id": "akO63YHKPmPO",
        "colab_type": "text"
      },
      "source": [
        "## SMOTE"
      ]
    },
    {
      "cell_type": "code",
      "metadata": {
        "id": "_69_AzR1Pove",
        "colab_type": "code",
        "colab": {
          "base_uri": "https://localhost:8080/",
          "height": 159
        },
        "outputId": "ce4a1a99-d15c-4a74-88fd-3af64ecd69b8"
      },
      "source": [
        "# X, Y = train_df.drop(columns=[target]) ,train_df.loc[:,target]\n",
        "print('Before OverSampling, the shape of train_X: {}'.format(X.shape))\n",
        "print('Before OverSampling, the shape of train_y: {} \\n'.format(Y.shape))\n",
        "\n",
        "sm = SMOTE(random_state=2)\n",
        "X_train_res, y_train_res = sm.fit_sample(X, Y)\n",
        "\n",
        "print('After OverSampling, the shape of train_X: {}'.format(X_train_res.shape))\n",
        "print('After OverSampling, the shape of train_y: {} \\n'.format(y_train_res.shape))\n",
        "\n",
        "print(\"After OverSampling, counts of label '1': {}\".format(sum(y_train_res==1)))\n",
        "print(\"After OverSampling, counts of label '0': {}\".format(sum(y_train_res==0)))"
      ],
      "execution_count": 264,
      "outputs": [
        {
          "output_type": "stream",
          "text": [
            "Before OverSampling, the shape of train_X: (17521, 49)\n",
            "Before OverSampling, the shape of train_y: (17521,) \n",
            "\n",
            "After OverSampling, the shape of train_X: (31520, 49)\n",
            "After OverSampling, the shape of train_y: (31520,) \n",
            "\n",
            "After OverSampling, counts of label '1': 15760\n",
            "After OverSampling, counts of label '0': 15760\n"
          ],
          "name": "stdout"
        }
      ]
    },
    {
      "cell_type": "markdown",
      "metadata": {
        "id": "ObFwXmojPjns",
        "colab_type": "text"
      },
      "source": [
        "## Modeling"
      ]
    },
    {
      "cell_type": "markdown",
      "metadata": {
        "id": "QnO7qp5aDlFV",
        "colab_type": "text"
      },
      "source": [
        "### Logistic Regression"
      ]
    },
    {
      "cell_type": "code",
      "metadata": {
        "id": "jpboAwesvw45",
        "colab_type": "code",
        "colab": {
          "base_uri": "https://localhost:8080/",
          "height": 88
        },
        "outputId": "8bff6e93-ab94-4f5b-83c0-8f6dcc740006"
      },
      "source": [
        "clf_lr = LogisticRegression()      \n",
        "lr_baseline_model = clf_lr.fit(X, Y)\n",
        "generate_accuracy_and_heatmap(lr_baseline_model, X, Y)"
      ],
      "execution_count": 150,
      "outputs": [
        {
          "output_type": "stream",
          "text": [
            "Accuracy is:  0.8994920381256778\n",
            "F1 score is:  0.06180074587107085\n",
            "\n",
            "\n"
          ],
          "name": "stdout"
        }
      ]
    },
    {
      "cell_type": "code",
      "metadata": {
        "id": "MOLqrXtJynzv",
        "colab_type": "code",
        "outputId": "ec278fa6-9a14-48c7-c50d-80f9e2e46e2b",
        "colab": {
          "base_uri": "https://localhost:8080/",
          "height": 139
        }
      },
      "source": [
        "pd.crosstab(clf_lr.predict(X),Y,rownames=['Predicted'], colnames=['Actual'])"
      ],
      "execution_count": 0,
      "outputs": [
        {
          "output_type": "execute_result",
          "data": {
            "text/html": [
              "<div>\n",
              "<style scoped>\n",
              "    .dataframe tbody tr th:only-of-type {\n",
              "        vertical-align: middle;\n",
              "    }\n",
              "\n",
              "    .dataframe tbody tr th {\n",
              "        vertical-align: top;\n",
              "    }\n",
              "\n",
              "    .dataframe thead th {\n",
              "        text-align: right;\n",
              "    }\n",
              "</style>\n",
              "<table border=\"1\" class=\"dataframe\">\n",
              "  <thead>\n",
              "    <tr style=\"text-align: right;\">\n",
              "      <th>Actual</th>\n",
              "      <th>0</th>\n",
              "      <th>1</th>\n",
              "    </tr>\n",
              "    <tr>\n",
              "      <th>Predicted</th>\n",
              "      <th></th>\n",
              "      <th></th>\n",
              "    </tr>\n",
              "  </thead>\n",
              "  <tbody>\n",
              "    <tr>\n",
              "      <th>0</th>\n",
              "      <td>15711</td>\n",
              "      <td>1724</td>\n",
              "    </tr>\n",
              "    <tr>\n",
              "      <th>1</th>\n",
              "      <td>49</td>\n",
              "      <td>37</td>\n",
              "    </tr>\n",
              "  </tbody>\n",
              "</table>\n",
              "</div>"
            ],
            "text/plain": [
              "Actual         0     1\n",
              "Predicted             \n",
              "0          15711  1724\n",
              "1             49    37"
            ]
          },
          "metadata": {
            "tags": []
          },
          "execution_count": 123
        }
      ]
    },
    {
      "cell_type": "markdown",
      "metadata": {
        "id": "CqFh-wL7_iuz",
        "colab_type": "text"
      },
      "source": [
        "### XGBoost"
      ]
    },
    {
      "cell_type": "code",
      "metadata": {
        "id": "myqX5C7qCuk0",
        "colab_type": "code",
        "colab": {
          "base_uri": "https://localhost:8080/",
          "height": 141
        },
        "outputId": "35b760ef-114e-4a11-b94b-f37c788081c2"
      },
      "source": [
        "# fit model no training data\n",
        "model = XGBClassifier(learning_rate=1,n_jobs=4)\n",
        "model.fit(X, Y)"
      ],
      "execution_count": 265,
      "outputs": [
        {
          "output_type": "execute_result",
          "data": {
            "text/plain": [
              "XGBClassifier(base_score=0.5, booster='gbtree', colsample_bylevel=1,\n",
              "              colsample_bynode=1, colsample_bytree=1, gamma=0, learning_rate=1,\n",
              "              max_delta_step=0, max_depth=3, min_child_weight=1, missing=None,\n",
              "              n_estimators=100, n_jobs=4, nthread=None,\n",
              "              objective='binary:logistic', random_state=0, reg_alpha=0,\n",
              "              reg_lambda=1, scale_pos_weight=1, seed=None, silent=None,\n",
              "              subsample=1, verbosity=1)"
            ]
          },
          "metadata": {
            "tags": []
          },
          "execution_count": 265
        }
      ]
    },
    {
      "cell_type": "code",
      "metadata": {
        "id": "vWAVQGajD5Bo",
        "colab_type": "code",
        "colab": {
          "base_uri": "https://localhost:8080/",
          "height": 139
        },
        "outputId": "ca0c444d-718c-4325-b3cb-36e2269f9fcc"
      },
      "source": [
        "y_pred = model.predict(X)\n",
        "predictions = [round(value) for value in Y]\n",
        "pd.crosstab(y_pred,Y,rownames=['Predicted'], colnames=['Actual'])"
      ],
      "execution_count": 266,
      "outputs": [
        {
          "output_type": "execute_result",
          "data": {
            "text/html": [
              "<div>\n",
              "<style scoped>\n",
              "    .dataframe tbody tr th:only-of-type {\n",
              "        vertical-align: middle;\n",
              "    }\n",
              "\n",
              "    .dataframe tbody tr th {\n",
              "        vertical-align: top;\n",
              "    }\n",
              "\n",
              "    .dataframe thead th {\n",
              "        text-align: right;\n",
              "    }\n",
              "</style>\n",
              "<table border=\"1\" class=\"dataframe\">\n",
              "  <thead>\n",
              "    <tr style=\"text-align: right;\">\n",
              "      <th>Actual</th>\n",
              "      <th>0</th>\n",
              "      <th>1</th>\n",
              "    </tr>\n",
              "    <tr>\n",
              "      <th>Predicted</th>\n",
              "      <th></th>\n",
              "      <th></th>\n",
              "    </tr>\n",
              "  </thead>\n",
              "  <tbody>\n",
              "    <tr>\n",
              "      <th>0</th>\n",
              "      <td>15671</td>\n",
              "      <td>1103</td>\n",
              "    </tr>\n",
              "    <tr>\n",
              "      <th>1</th>\n",
              "      <td>89</td>\n",
              "      <td>658</td>\n",
              "    </tr>\n",
              "  </tbody>\n",
              "</table>\n",
              "</div>"
            ],
            "text/plain": [
              "Actual         0     1\n",
              "Predicted             \n",
              "0          15671  1103\n",
              "1             89   658"
            ]
          },
          "metadata": {
            "tags": []
          },
          "execution_count": 266
        }
      ]
    },
    {
      "cell_type": "code",
      "metadata": {
        "id": "Bgp33vjLFbIa",
        "colab_type": "code",
        "colab": {
          "base_uri": "https://localhost:8080/",
          "height": 88
        },
        "outputId": "6085676a-91eb-47e7-d742-86a6293ec5b0"
      },
      "source": [
        "generate_accuracy_and_heatmap(model, X, Y)"
      ],
      "execution_count": 267,
      "outputs": [
        {
          "output_type": "stream",
          "text": [
            "Accuracy is:  0.9319673534615605\n",
            "F1 score is:  0.5247208931419458\n",
            "\n",
            "\n"
          ],
          "name": "stdout"
        }
      ]
    },
    {
      "cell_type": "markdown",
      "metadata": {
        "id": "3PDTKCl8CyOr",
        "colab_type": "text"
      },
      "source": [
        "### LightGBM"
      ]
    },
    {
      "cell_type": "code",
      "metadata": {
        "id": "OLsj_rTAC2Y2",
        "colab_type": "code",
        "colab": {
          "base_uri": "https://localhost:8080/",
          "height": 383
        },
        "outputId": "4b63cef9-902b-45a5-a40c-8bf2fc5b0500"
      },
      "source": [
        "# parameters = {\n",
        "#     'application': 'binary',\n",
        "#     'objective': 'binary',\n",
        "#     'metric': 'auc',\n",
        "#     'is_unbalance': 'true',\n",
        "#     'boosting': 'gbdt',\n",
        "#     'num_leaves': 31,\n",
        "#     'feature_fraction': 0.5,\n",
        "#     'bagging_fraction': 0.5,\n",
        "#     'bagging_freq': 20,\n",
        "#     'learning_rate': 0.05,\n",
        "#     'verbose': 0\n",
        "# }\n",
        "\n",
        "# x, x_test, y, y_test = train_test_split(X, Y, test_size=0.2, random_state=42, stratify=Y)\n",
        "\n",
        "# categorical_features = [c for c, col in enumerate(X.columns) if 'cat' in col]\n",
        "# train_data = lightgbm.Dataset(x, label=y, categorical_feature=categorical_features)\n",
        "# test_data = lightgbm.Dataset(x_test, label=y_test)\n",
        "\n",
        "\n",
        "# model = lightgbm.train(parameters,\n",
        "#                        train_data,\n",
        "#                        valid_sets=test_df,\n",
        "#                        num_boost_round=5000,\n",
        "#                        early_stopping_rounds=100)\n",
        "\n",
        "# y_pred = model.predict(X)\n",
        "# predictions = [round(value) for value in Y]\n",
        "\n",
        "# generate_accuracy_and_heatmap(model, X, Y)\n",
        "# pd.crosstab(y_pred,Y,rownames=['Predicted'], colnames=['Actual'])"
      ],
      "execution_count": 259,
      "outputs": [
        {
          "output_type": "error",
          "ename": "TypeError",
          "evalue": "ignored",
          "traceback": [
            "\u001b[0;31m---------------------------------------------------------------------------\u001b[0m",
            "\u001b[0;31mTypeError\u001b[0m                                 Traceback (most recent call last)",
            "\u001b[0;32m<ipython-input-259-de3494775bf0>\u001b[0m in \u001b[0;36m<module>\u001b[0;34m()\u001b[0m\n\u001b[1;32m     24\u001b[0m                        \u001b[0mvalid_sets\u001b[0m\u001b[0;34m=\u001b[0m\u001b[0mtest_df\u001b[0m\u001b[0;34m,\u001b[0m\u001b[0;34m\u001b[0m\u001b[0;34m\u001b[0m\u001b[0m\n\u001b[1;32m     25\u001b[0m                        \u001b[0mnum_boost_round\u001b[0m\u001b[0;34m=\u001b[0m\u001b[0;36m5000\u001b[0m\u001b[0;34m,\u001b[0m\u001b[0;34m\u001b[0m\u001b[0;34m\u001b[0m\u001b[0m\n\u001b[0;32m---> 26\u001b[0;31m                        early_stopping_rounds=100)\n\u001b[0m\u001b[1;32m     27\u001b[0m \u001b[0;34m\u001b[0m\u001b[0m\n\u001b[1;32m     28\u001b[0m \u001b[0my_pred\u001b[0m \u001b[0;34m=\u001b[0m \u001b[0mmodel\u001b[0m\u001b[0;34m.\u001b[0m\u001b[0mpredict\u001b[0m\u001b[0;34m(\u001b[0m\u001b[0mX\u001b[0m\u001b[0;34m)\u001b[0m\u001b[0;34m\u001b[0m\u001b[0;34m\u001b[0m\u001b[0m\n",
            "\u001b[0;32m/usr/local/lib/python3.6/dist-packages/lightgbm/engine.py\u001b[0m in \u001b[0;36mtrain\u001b[0;34m(params, train_set, num_boost_round, valid_sets, valid_names, fobj, feval, init_model, feature_name, categorical_feature, early_stopping_rounds, evals_result, verbose_eval, learning_rates, keep_training_booster, callbacks)\u001b[0m\n\u001b[1;32m    159\u001b[0m                 \u001b[0;32mcontinue\u001b[0m\u001b[0;34m\u001b[0m\u001b[0;34m\u001b[0m\u001b[0m\n\u001b[1;32m    160\u001b[0m             \u001b[0;32mif\u001b[0m \u001b[0;32mnot\u001b[0m \u001b[0misinstance\u001b[0m\u001b[0;34m(\u001b[0m\u001b[0mvalid_data\u001b[0m\u001b[0;34m,\u001b[0m \u001b[0mDataset\u001b[0m\u001b[0;34m)\u001b[0m\u001b[0;34m:\u001b[0m\u001b[0;34m\u001b[0m\u001b[0;34m\u001b[0m\u001b[0m\n\u001b[0;32m--> 161\u001b[0;31m                 \u001b[0;32mraise\u001b[0m \u001b[0mTypeError\u001b[0m\u001b[0;34m(\u001b[0m\u001b[0;34m\"Traninig only accepts Dataset object\"\u001b[0m\u001b[0;34m)\u001b[0m\u001b[0;34m\u001b[0m\u001b[0;34m\u001b[0m\u001b[0m\n\u001b[0m\u001b[1;32m    162\u001b[0m             \u001b[0mreduced_valid_sets\u001b[0m\u001b[0;34m.\u001b[0m\u001b[0mappend\u001b[0m\u001b[0;34m(\u001b[0m\u001b[0mvalid_data\u001b[0m\u001b[0;34m.\u001b[0m\u001b[0m_update_params\u001b[0m\u001b[0;34m(\u001b[0m\u001b[0mparams\u001b[0m\u001b[0;34m)\u001b[0m\u001b[0;34m.\u001b[0m\u001b[0mset_reference\u001b[0m\u001b[0;34m(\u001b[0m\u001b[0mtrain_set\u001b[0m\u001b[0;34m)\u001b[0m\u001b[0;34m)\u001b[0m\u001b[0;34m\u001b[0m\u001b[0;34m\u001b[0m\u001b[0m\n\u001b[1;32m    163\u001b[0m             \u001b[0;32mif\u001b[0m \u001b[0mvalid_names\u001b[0m \u001b[0;32mis\u001b[0m \u001b[0;32mnot\u001b[0m \u001b[0;32mNone\u001b[0m \u001b[0;32mand\u001b[0m \u001b[0mlen\u001b[0m\u001b[0;34m(\u001b[0m\u001b[0mvalid_names\u001b[0m\u001b[0;34m)\u001b[0m \u001b[0;34m>\u001b[0m \u001b[0mi\u001b[0m\u001b[0;34m:\u001b[0m\u001b[0;34m\u001b[0m\u001b[0;34m\u001b[0m\u001b[0m\n",
            "\u001b[0;31mTypeError\u001b[0m: Traninig only accepts Dataset object"
          ]
        }
      ]
    },
    {
      "cell_type": "markdown",
      "metadata": {
        "id": "jJF8bWv2-PSz",
        "colab_type": "text"
      },
      "source": [
        "## Hyperparameter tuning"
      ]
    },
    {
      "cell_type": "markdown",
      "metadata": {
        "id": "-YoKmeA2_fby",
        "colab_type": "text"
      },
      "source": [
        "### Logistic regression"
      ]
    },
    {
      "cell_type": "code",
      "metadata": {
        "id": "U6Bx7l3Y9IyZ",
        "colab_type": "code",
        "colab": {
          "base_uri": "https://localhost:8080/",
          "height": 35
        },
        "outputId": "16cdf95b-91dd-4ee2-e55d-73b39f2cacc3"
      },
      "source": [
        "weights = np.linspace(0.05, 0.95, 20)\n",
        "gsc = GridSearchCV(\n",
        "    estimator=LogisticRegression(),\n",
        "    param_grid={\n",
        "        'class_weight': [{0: x, 1: 1.0-x} for x in weights]\n",
        "    },\n",
        "    scoring='f1',\n",
        "    cv=5\n",
        ")\n",
        "\n",
        "grid_result = gsc.fit(X, Y)\n",
        "print(\"Best parameters : %s\" % grid_result.best_params_)"
      ],
      "execution_count": 134,
      "outputs": [
        {
          "output_type": "stream",
          "text": [
            "Best parameters : {'class_weight': {0: 0.14473684210526316, 1: 0.8552631578947368}}\n"
          ],
          "name": "stdout"
        }
      ]
    },
    {
      "cell_type": "code",
      "metadata": {
        "id": "8Tapo0v19pUn",
        "colab_type": "code",
        "colab": {
          "base_uri": "https://localhost:8080/",
          "height": 301
        },
        "outputId": "0a1f1e19-9b8c-4840-9102-781e977da8ac"
      },
      "source": [
        "data_out = pd.DataFrame({'score': grid_result.cv_results_['mean_test_score'],\n",
        "                       'weight': weights })\n",
        "data_out.plot(x='weight')"
      ],
      "execution_count": 135,
      "outputs": [
        {
          "output_type": "execute_result",
          "data": {
            "text/plain": [
              "<matplotlib.axes._subplots.AxesSubplot at 0x7effc9fe0f60>"
            ]
          },
          "metadata": {
            "tags": []
          },
          "execution_count": 135
        },
        {
          "output_type": "display_data",
          "data": {
            "image/png": "[encoded data removed]",
            "text/plain": [
              "<Figure size 432x288 with 1 Axes>"
            ]
          },
          "metadata": {
            "tags": []
          }
        }
      ]
    },
    {
      "cell_type": "code",
      "metadata": {
        "id": "_kdTIp5E9wfc",
        "colab_type": "code",
        "colab": {
          "base_uri": "https://localhost:8080/",
          "height": 246
        },
        "outputId": "f9b3d9ae-a8b8-47a5-f705-d175b4b33fcb"
      },
      "source": [
        "clf = LogisticRegression(**grid_result.best_params_).fit(X, Y)\n",
        "print(clf)\n",
        "y1 = clf.predict(X)\n",
        "\n",
        "\n",
        "# Confusion matrix\n",
        "pd.crosstab(y1,Y,rownames=['Predicted'], colnames=['Actual'])"
      ],
      "execution_count": 142,
      "outputs": [
        {
          "output_type": "stream",
          "text": [
            "LogisticRegression(C=1.0,\n",
            "                   class_weight={0: 0.14473684210526316, 1: 0.8552631578947368},\n",
            "                   dual=False, fit_intercept=True, intercept_scaling=1,\n",
            "                   l1_ratio=None, max_iter=100, multi_class='warn', n_jobs=None,\n",
            "                   penalty='l2', random_state=None, solver='warn', tol=0.0001,\n",
            "                   verbose=0, warm_start=False)\n"
          ],
          "name": "stdout"
        },
        {
          "output_type": "execute_result",
          "data": {
            "text/html": [
              "<div>\n",
              "<style scoped>\n",
              "    .dataframe tbody tr th:only-of-type {\n",
              "        vertical-align: middle;\n",
              "    }\n",
              "\n",
              "    .dataframe tbody tr th {\n",
              "        vertical-align: top;\n",
              "    }\n",
              "\n",
              "    .dataframe thead th {\n",
              "        text-align: right;\n",
              "    }\n",
              "</style>\n",
              "<table border=\"1\" class=\"dataframe\">\n",
              "  <thead>\n",
              "    <tr style=\"text-align: right;\">\n",
              "      <th>Actual</th>\n",
              "      <th>0</th>\n",
              "      <th>1</th>\n",
              "    </tr>\n",
              "    <tr>\n",
              "      <th>Predicted</th>\n",
              "      <th></th>\n",
              "      <th></th>\n",
              "    </tr>\n",
              "  </thead>\n",
              "  <tbody>\n",
              "    <tr>\n",
              "      <th>0</th>\n",
              "      <td>14037</td>\n",
              "      <td>1183</td>\n",
              "    </tr>\n",
              "    <tr>\n",
              "      <th>1</th>\n",
              "      <td>1723</td>\n",
              "      <td>578</td>\n",
              "    </tr>\n",
              "  </tbody>\n",
              "</table>\n",
              "</div>"
            ],
            "text/plain": [
              "Actual         0     1\n",
              "Predicted             \n",
              "0          14037  1183\n",
              "1           1723   578"
            ]
          },
          "metadata": {
            "tags": []
          },
          "execution_count": 142
        }
      ]
    },
    {
      "cell_type": "markdown",
      "metadata": {
        "id": "vLhF1X4Qy7Ud",
        "colab_type": "text"
      },
      "source": [
        "## Submission"
      ]
    },
    {
      "cell_type": "code",
      "metadata": {
        "id": "Sm-Ve46SzE2r",
        "colab_type": "code",
        "colab": {
          "base_uri": "https://localhost:8080/",
          "height": 906
        },
        "outputId": "911d2df6-9b80-4e24-eb8c-52fa96cb8dab"
      },
      "source": [
        "test_df.loc[:,col_x] = test_df.loc[:,col_x].fillna(method='ffill')\n",
        "test_df.loc[:,col_x].isna().sum().sort_values(ascending=False)"
      ],
      "execution_count": 268,
      "outputs": [
        {
          "output_type": "execute_result",
          "data": {
            "text/plain": [
              "Col914     1\n",
              "Col38      1\n",
              "Col874     1\n",
              "Col876     1\n",
              "Col877     1\n",
              "Col677     1\n",
              "Col527     1\n",
              "Col915     1\n",
              "Col875     1\n",
              "Col330     1\n",
              "Col913     1\n",
              "Col390     0\n",
              "Col1502    0\n",
              "Col380     0\n",
              "Col431     0\n",
              "Col51      0\n",
              "Col2052    0\n",
              "Col2364    0\n",
              "Col636     0\n",
              "Col240     0\n",
              "Col180     0\n",
              "Col1412    0\n",
              "Col440     0\n",
              "Col1544    0\n",
              "Col1364    0\n",
              "Col2232    0\n",
              "Col243     0\n",
              "Col1454    0\n",
              "Col2142    0\n",
              "Col183     0\n",
              "Col437     0\n",
              "Col2094    0\n",
              "Col1592    0\n",
              "Col1322    0\n",
              "Col627     0\n",
              "Col633     0\n",
              "Col1634    0\n",
              "Col193     0\n",
              "Col59      0\n",
              "Col2322    0\n",
              "Col127     0\n",
              "Col166     0\n",
              "Col234     0\n",
              "Col178     0\n",
              "Col2184    0\n",
              "Col577     0\n",
              "Col2274    0\n",
              "Col186     0\n",
              "Col135     0\n",
              "dtype: int64"
            ]
          },
          "metadata": {
            "tags": []
          },
          "execution_count": 268
        }
      ]
    },
    {
      "cell_type": "code",
      "metadata": {
        "id": "PLn8i2AGy9Bl",
        "colab_type": "code",
        "colab": {
          "base_uri": "https://localhost:8080/",
          "height": 35
        },
        "outputId": "ed0d19f4-98d5-4631-c473-11c0a6f39ba1"
      },
      "source": [
        "sample = pd.read_csv(path+'Sample_submission.csv')\n",
        "# y_test = clf_lr.predict(test_df.loc[:,col_x])\n",
        "y_test = model.predict(test_df.loc[:,col_x])\n",
        "print(sum(y_test))"
      ],
      "execution_count": 269,
      "outputs": [
        {
          "output_type": "stream",
          "text": [
            "994\n"
          ],
          "name": "stdout"
        }
      ]
    },
    {
      "cell_type": "code",
      "metadata": {
        "id": "5LbIfDrg5mpX",
        "colab_type": "code",
        "colab": {}
      },
      "source": [
        "sample.drop(index=sample.index,inplace=True)\n",
        "sample['Col1'] = test_df.iloc[:,0]\n",
        "sample['Col2'] = y_test \n",
        "sample.to_csv('out.csv',index=False)"
      ],
      "execution_count": 0,
      "outputs": []
    }
  ]
}